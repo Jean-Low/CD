{
 "cells": [
  {
   "cell_type": "markdown",
   "metadata": {},
   "source": [
    "___\n",
    "# MINIPROJETO 1"
   ]
  },
  {
   "cell_type": "markdown",
   "metadata": {},
   "source": [
    "## <font color='red'>Jean Walper</font>\n",
    "___"
   ]
  },
  {
   "cell_type": "markdown",
   "metadata": {},
   "source": [
    "## <font color='blue'>Produção mensal de Gas natural no Brasil</font>"
   ]
  },
  {
   "cell_type": "markdown",
   "metadata": {},
   "source": [
    "___\n",
    "### Itens 1 a 3 - Resolução:"
   ]
  },
  {
   "cell_type": "code",
   "execution_count": 1,
   "metadata": {
    "collapsed": false
   },
   "outputs": [
    {
     "name": "stdout",
     "output_type": "stream",
     "text": [
      "Esperamos trabalhar no diretório\n",
      "C:\\Users\\Jean Luca\\Dropbox\\Insper\\Ciencia dados\\Mini projeto 1\n"
     ]
    }
   ],
   "source": [
    "%matplotlib inline\n",
    "import pandas as pd\n",
    "import matplotlib.pyplot as plt\n",
    "import numpy as np\n",
    "import os\n",
    "from scipy.stats import *\n",
    "\n",
    "print('Esperamos trabalhar no diretório')\n",
    "print(os.getcwd())"
   ]
  },
  {
   "cell_type": "code",
   "execution_count": 2,
   "metadata": {
    "collapsed": false
   },
   "outputs": [
    {
     "data": {
      "text/html": [
       "<div>\n",
       "<table border=\"1\" class=\"dataframe\">\n",
       "  <thead>\n",
       "    <tr style=\"text-align: right;\">\n",
       "      <th></th>\n",
       "      <th>Meses</th>\n",
       "      <th>v2000</th>\n",
       "      <th>v2001</th>\n",
       "      <th>v2002</th>\n",
       "      <th>v2003</th>\n",
       "      <th>v2004</th>\n",
       "      <th>v2005</th>\n",
       "      <th>v2006</th>\n",
       "      <th>v2007</th>\n",
       "      <th>v2008</th>\n",
       "      <th>v2009</th>\n",
       "      <th>v2010</th>\n",
       "      <th>v2011</th>\n",
       "      <th>v2012</th>\n",
       "      <th>v2013</th>\n",
       "      <th>v2014</th>\n",
       "      <th>v2015</th>\n",
       "    </tr>\n",
       "  </thead>\n",
       "  <tbody>\n",
       "    <tr>\n",
       "      <th>0</th>\n",
       "      <td>Janeiro</td>\n",
       "      <td>1.068935e+06</td>\n",
       "      <td>1169771.20</td>\n",
       "      <td>1335166.21</td>\n",
       "      <td>1317095.510</td>\n",
       "      <td>1381342.000</td>\n",
       "      <td>1470284.880</td>\n",
       "      <td>1.456525e+06</td>\n",
       "      <td>1487442.328</td>\n",
       "      <td>1.683977e+06</td>\n",
       "      <td>1.658681e+06</td>\n",
       "      <td>1.815140e+06</td>\n",
       "      <td>2.053934e+06</td>\n",
       "      <td>2.203888e+06</td>\n",
       "      <td>2.351423e+06</td>\n",
       "      <td>2.491026e+06</td>\n",
       "      <td>2.993305e+06</td>\n",
       "    </tr>\n",
       "    <tr>\n",
       "      <th>1</th>\n",
       "      <td>Fevereiro</td>\n",
       "      <td>9.806573e+05</td>\n",
       "      <td>1089567.40</td>\n",
       "      <td>1238338.12</td>\n",
       "      <td>1207262.980</td>\n",
       "      <td>1319177.220</td>\n",
       "      <td>1310044.947</td>\n",
       "      <td>1.335771e+06</td>\n",
       "      <td>1374222.672</td>\n",
       "      <td>1.646144e+06</td>\n",
       "      <td>1.569905e+06</td>\n",
       "      <td>1.694797e+06</td>\n",
       "      <td>1.758887e+06</td>\n",
       "      <td>1.946003e+06</td>\n",
       "      <td>2.143047e+06</td>\n",
       "      <td>2.330953e+06</td>\n",
       "      <td>2.669995e+06</td>\n",
       "    </tr>\n",
       "    <tr>\n",
       "      <th>2</th>\n",
       "      <td>Março</td>\n",
       "      <td>1.087442e+06</td>\n",
       "      <td>1180630.30</td>\n",
       "      <td>1378671.30</td>\n",
       "      <td>1315644.770</td>\n",
       "      <td>1433681.000</td>\n",
       "      <td>1471608.409</td>\n",
       "      <td>1.476417e+06</td>\n",
       "      <td>1526931.564</td>\n",
       "      <td>1.791643e+06</td>\n",
       "      <td>1.791627e+06</td>\n",
       "      <td>1.843742e+06</td>\n",
       "      <td>1.904510e+06</td>\n",
       "      <td>2.054450e+06</td>\n",
       "      <td>2.394883e+06</td>\n",
       "      <td>2.585681e+06</td>\n",
       "      <td>2.964306e+06</td>\n",
       "    </tr>\n",
       "    <tr>\n",
       "      <th>3</th>\n",
       "      <td>Abril</td>\n",
       "      <td>1.059863e+06</td>\n",
       "      <td>1116020.30</td>\n",
       "      <td>1332613.84</td>\n",
       "      <td>1283424.110</td>\n",
       "      <td>1390912.000</td>\n",
       "      <td>1471787.451</td>\n",
       "      <td>1.467439e+06</td>\n",
       "      <td>1488874.942</td>\n",
       "      <td>1.743011e+06</td>\n",
       "      <td>1.683245e+06</td>\n",
       "      <td>1.836473e+06</td>\n",
       "      <td>1.876305e+06</td>\n",
       "      <td>1.959384e+06</td>\n",
       "      <td>2.241018e+06</td>\n",
       "      <td>2.485701e+06</td>\n",
       "      <td>2.830274e+06</td>\n",
       "    </tr>\n",
       "    <tr>\n",
       "      <th>4</th>\n",
       "      <td>Maio</td>\n",
       "      <td>1.108285e+06</td>\n",
       "      <td>1154038.00</td>\n",
       "      <td>1366700.31</td>\n",
       "      <td>1292163.590</td>\n",
       "      <td>1392777.159</td>\n",
       "      <td>1558916.767</td>\n",
       "      <td>1.542849e+06</td>\n",
       "      <td>1482372.107</td>\n",
       "      <td>1.785670e+06</td>\n",
       "      <td>1.810717e+06</td>\n",
       "      <td>1.924897e+06</td>\n",
       "      <td>2.066653e+06</td>\n",
       "      <td>2.120449e+06</td>\n",
       "      <td>2.320418e+06</td>\n",
       "      <td>2.620634e+06</td>\n",
       "      <td>2.887097e+06</td>\n",
       "    </tr>\n",
       "    <tr>\n",
       "      <th>5</th>\n",
       "      <td>Junho</td>\n",
       "      <td>1.106878e+06</td>\n",
       "      <td>1134247.50</td>\n",
       "      <td>1304133.20</td>\n",
       "      <td>1231728.050</td>\n",
       "      <td>1390781.000</td>\n",
       "      <td>1501361.000</td>\n",
       "      <td>1.472320e+06</td>\n",
       "      <td>1478894.742</td>\n",
       "      <td>1.831120e+06</td>\n",
       "      <td>1.772267e+06</td>\n",
       "      <td>1.887284e+06</td>\n",
       "      <td>2.018035e+06</td>\n",
       "      <td>2.159457e+06</td>\n",
       "      <td>2.399642e+06</td>\n",
       "      <td>2.596957e+06</td>\n",
       "      <td>2.865478e+06</td>\n",
       "    </tr>\n",
       "    <tr>\n",
       "      <th>6</th>\n",
       "      <td>Julho</td>\n",
       "      <td>1.135135e+06</td>\n",
       "      <td>1180636.90</td>\n",
       "      <td>1295413.56</td>\n",
       "      <td>1326925.330</td>\n",
       "      <td>1463457.000</td>\n",
       "      <td>1523204.000</td>\n",
       "      <td>1.552907e+06</td>\n",
       "      <td>1561766.743</td>\n",
       "      <td>1.872124e+06</td>\n",
       "      <td>1.798173e+06</td>\n",
       "      <td>1.934056e+06</td>\n",
       "      <td>2.073235e+06</td>\n",
       "      <td>2.200352e+06</td>\n",
       "      <td>2.433399e+06</td>\n",
       "      <td>2.724201e+06</td>\n",
       "      <td>2.955227e+06</td>\n",
       "    </tr>\n",
       "    <tr>\n",
       "      <th>7</th>\n",
       "      <td>Agosto</td>\n",
       "      <td>1.102478e+06</td>\n",
       "      <td>1169423.10</td>\n",
       "      <td>1321209.95</td>\n",
       "      <td>1371809.270</td>\n",
       "      <td>1457533.001</td>\n",
       "      <td>1505034.000</td>\n",
       "      <td>1.518976e+06</td>\n",
       "      <td>1544444.914</td>\n",
       "      <td>1.892858e+06</td>\n",
       "      <td>1.768056e+06</td>\n",
       "      <td>1.937858e+06</td>\n",
       "      <td>2.062183e+06</td>\n",
       "      <td>2.212626e+06</td>\n",
       "      <td>2.386582e+06</td>\n",
       "      <td>2.818105e+06</td>\n",
       "      <td>3.076061e+06</td>\n",
       "    </tr>\n",
       "    <tr>\n",
       "      <th>8</th>\n",
       "      <td>Setembro</td>\n",
       "      <td>1.119512e+06</td>\n",
       "      <td>1147600.00</td>\n",
       "      <td>1251906.73</td>\n",
       "      <td>1353389.470</td>\n",
       "      <td>1417594.753</td>\n",
       "      <td>1417844.000</td>\n",
       "      <td>1.427135e+06</td>\n",
       "      <td>1472155.812</td>\n",
       "      <td>1.821059e+06</td>\n",
       "      <td>1.798723e+06</td>\n",
       "      <td>1.917639e+06</td>\n",
       "      <td>1.957824e+06</td>\n",
       "      <td>2.152293e+06</td>\n",
       "      <td>2.344312e+06</td>\n",
       "      <td>2.667944e+06</td>\n",
       "      <td>2.920794e+06</td>\n",
       "    </tr>\n",
       "    <tr>\n",
       "      <th>9</th>\n",
       "      <td>Outubro</td>\n",
       "      <td>1.148547e+06</td>\n",
       "      <td>1151292.49</td>\n",
       "      <td>1256029.76</td>\n",
       "      <td>1403235.813</td>\n",
       "      <td>1464053.243</td>\n",
       "      <td>1496159.000</td>\n",
       "      <td>1.522304e+06</td>\n",
       "      <td>1540580.274</td>\n",
       "      <td>1.924308e+06</td>\n",
       "      <td>1.842935e+06</td>\n",
       "      <td>2.014040e+06</td>\n",
       "      <td>2.053978e+06</td>\n",
       "      <td>2.262116e+06</td>\n",
       "      <td>2.258739e+06</td>\n",
       "      <td>2.873238e+06</td>\n",
       "      <td>3.025788e+06</td>\n",
       "    </tr>\n",
       "    <tr>\n",
       "      <th>10</th>\n",
       "      <td>Novembro</td>\n",
       "      <td>1.148621e+06</td>\n",
       "      <td>1201294.83</td>\n",
       "      <td>1208174.26</td>\n",
       "      <td>1331019.967</td>\n",
       "      <td>1366918.579</td>\n",
       "      <td>1496651.000</td>\n",
       "      <td>1.447438e+06</td>\n",
       "      <td>1536632.623</td>\n",
       "      <td>1.767928e+06</td>\n",
       "      <td>1.773482e+06</td>\n",
       "      <td>1.987016e+06</td>\n",
       "      <td>2.036033e+06</td>\n",
       "      <td>2.199599e+06</td>\n",
       "      <td>2.371898e+06</td>\n",
       "      <td>2.750852e+06</td>\n",
       "      <td>2.825745e+06</td>\n",
       "    </tr>\n",
       "    <tr>\n",
       "      <th>11</th>\n",
       "      <td>Dezembro</td>\n",
       "      <td>1.216524e+06</td>\n",
       "      <td>1304275.77</td>\n",
       "      <td>1236795.90</td>\n",
       "      <td>1358365.044</td>\n",
       "      <td>1492929.038</td>\n",
       "      <td>1476305.549</td>\n",
       "      <td>1.486079e+06</td>\n",
       "      <td>1657332.840</td>\n",
       "      <td>1.832810e+06</td>\n",
       "      <td>1.873709e+06</td>\n",
       "      <td>2.145505e+06</td>\n",
       "      <td>2.212155e+06</td>\n",
       "      <td>2.361629e+06</td>\n",
       "      <td>2.528853e+06</td>\n",
       "      <td>2.949583e+06</td>\n",
       "      <td>3.112377e+06</td>\n",
       "    </tr>\n",
       "  </tbody>\n",
       "</table>\n",
       "</div>"
      ],
      "text/plain": [
       "        Meses         v2000       v2001       v2002        v2003        v2004  \\\n",
       "0     Janeiro  1.068935e+06  1169771.20  1335166.21  1317095.510  1381342.000   \n",
       "1   Fevereiro  9.806573e+05  1089567.40  1238338.12  1207262.980  1319177.220   \n",
       "2       Março  1.087442e+06  1180630.30  1378671.30  1315644.770  1433681.000   \n",
       "3       Abril  1.059863e+06  1116020.30  1332613.84  1283424.110  1390912.000   \n",
       "4        Maio  1.108285e+06  1154038.00  1366700.31  1292163.590  1392777.159   \n",
       "5       Junho  1.106878e+06  1134247.50  1304133.20  1231728.050  1390781.000   \n",
       "6       Julho  1.135135e+06  1180636.90  1295413.56  1326925.330  1463457.000   \n",
       "7      Agosto  1.102478e+06  1169423.10  1321209.95  1371809.270  1457533.001   \n",
       "8    Setembro  1.119512e+06  1147600.00  1251906.73  1353389.470  1417594.753   \n",
       "9     Outubro  1.148547e+06  1151292.49  1256029.76  1403235.813  1464053.243   \n",
       "10   Novembro  1.148621e+06  1201294.83  1208174.26  1331019.967  1366918.579   \n",
       "11   Dezembro  1.216524e+06  1304275.77  1236795.90  1358365.044  1492929.038   \n",
       "\n",
       "          v2005         v2006        v2007         v2008         v2009  \\\n",
       "0   1470284.880  1.456525e+06  1487442.328  1.683977e+06  1.658681e+06   \n",
       "1   1310044.947  1.335771e+06  1374222.672  1.646144e+06  1.569905e+06   \n",
       "2   1471608.409  1.476417e+06  1526931.564  1.791643e+06  1.791627e+06   \n",
       "3   1471787.451  1.467439e+06  1488874.942  1.743011e+06  1.683245e+06   \n",
       "4   1558916.767  1.542849e+06  1482372.107  1.785670e+06  1.810717e+06   \n",
       "5   1501361.000  1.472320e+06  1478894.742  1.831120e+06  1.772267e+06   \n",
       "6   1523204.000  1.552907e+06  1561766.743  1.872124e+06  1.798173e+06   \n",
       "7   1505034.000  1.518976e+06  1544444.914  1.892858e+06  1.768056e+06   \n",
       "8   1417844.000  1.427135e+06  1472155.812  1.821059e+06  1.798723e+06   \n",
       "9   1496159.000  1.522304e+06  1540580.274  1.924308e+06  1.842935e+06   \n",
       "10  1496651.000  1.447438e+06  1536632.623  1.767928e+06  1.773482e+06   \n",
       "11  1476305.549  1.486079e+06  1657332.840  1.832810e+06  1.873709e+06   \n",
       "\n",
       "           v2010         v2011         v2012         v2013         v2014  \\\n",
       "0   1.815140e+06  2.053934e+06  2.203888e+06  2.351423e+06  2.491026e+06   \n",
       "1   1.694797e+06  1.758887e+06  1.946003e+06  2.143047e+06  2.330953e+06   \n",
       "2   1.843742e+06  1.904510e+06  2.054450e+06  2.394883e+06  2.585681e+06   \n",
       "3   1.836473e+06  1.876305e+06  1.959384e+06  2.241018e+06  2.485701e+06   \n",
       "4   1.924897e+06  2.066653e+06  2.120449e+06  2.320418e+06  2.620634e+06   \n",
       "5   1.887284e+06  2.018035e+06  2.159457e+06  2.399642e+06  2.596957e+06   \n",
       "6   1.934056e+06  2.073235e+06  2.200352e+06  2.433399e+06  2.724201e+06   \n",
       "7   1.937858e+06  2.062183e+06  2.212626e+06  2.386582e+06  2.818105e+06   \n",
       "8   1.917639e+06  1.957824e+06  2.152293e+06  2.344312e+06  2.667944e+06   \n",
       "9   2.014040e+06  2.053978e+06  2.262116e+06  2.258739e+06  2.873238e+06   \n",
       "10  1.987016e+06  2.036033e+06  2.199599e+06  2.371898e+06  2.750852e+06   \n",
       "11  2.145505e+06  2.212155e+06  2.361629e+06  2.528853e+06  2.949583e+06   \n",
       "\n",
       "           v2015  \n",
       "0   2.993305e+06  \n",
       "1   2.669995e+06  \n",
       "2   2.964306e+06  \n",
       "3   2.830274e+06  \n",
       "4   2.887097e+06  \n",
       "5   2.865478e+06  \n",
       "6   2.955227e+06  \n",
       "7   3.076061e+06  \n",
       "8   2.920794e+06  \n",
       "9   3.025788e+06  \n",
       "10  2.825745e+06  \n",
       "11  3.112377e+06  "
      ]
     },
     "execution_count": 2,
     "metadata": {},
     "output_type": "execute_result"
    }
   ],
   "source": [
    "DataBkp = pd.read_excel(\"GasNatural.xls\") #Tabela ainda não filtrada e toda tosca\n",
    "Data = pd.read_excel(\"DataFiltrada.xlsx\")\n",
    "Data #minha database:"
   ]
  },
  {
   "cell_type": "code",
   "execution_count": 3,
   "metadata": {
    "collapsed": false
   },
   "outputs": [],
   "source": [
    "stack = Data.stack() #Reformatando a database para que possamos usar todos os valores separados por meses"
   ]
  },
  {
   "cell_type": "code",
   "execution_count": 4,
   "metadata": {
    "collapsed": false
   },
   "outputs": [
    {
     "data": {
      "text/plain": [
       "<matplotlib.axes._subplots.AxesSubplot at 0x2ad0fac92e8>"
      ]
     },
     "execution_count": 4,
     "metadata": {},
     "output_type": "execute_result"
    },
    {
     "data": {
      "image/png": "[encoded data removed]",
      "text/plain": [
       "<matplotlib.figure.Figure at 0x2ad0fa7cef0>"
      ]
     },
     "metadata": {},
     "output_type": "display_data"
    }
   ],
   "source": [
    "list = []\n",
    "for i in range(1,16):\n",
    "    for n in range(12):\n",
    "        list.append(stack[n][i]) #fazendo a separação por mes\n",
    "\n",
    "Meses = pd.DataFrame()\n",
    "Meses[\"Mes\"] = list\n",
    "Meses.plot.hist(bins = range(600000,3000000,100000))"
   ]
  },
  {
   "cell_type": "code",
   "execution_count": 5,
   "metadata": {
    "collapsed": false
   },
   "outputs": [
    {
     "data": {
      "text/plain": [
       "<matplotlib.axes._subplots.AxesSubplot at 0x2ad0ff3a3c8>"
      ]
     },
     "execution_count": 5,
     "metadata": {},
     "output_type": "execute_result"
    },
    {
     "data": {
      "image/png": "[encoded data removed]",
      "text/plain": [
       "<matplotlib.figure.Figure at 0x2ad0c3b0438>"
      ]
     },
     "metadata": {},
     "output_type": "display_data"
    }
   ],
   "source": [
    "Meses.tail(60).plot.bar() # Aqui podmeos ver que a variavel tende a subir com o passar do tempo. isso é importante\n",
    "#para considerar as limitações do modelo."
   ]
  },
  {
   "cell_type": "markdown",
   "metadata": {
    "collapsed": true
   },
   "source": [
    "___\n",
    "### Itens 4 a 6 - Resolução:"
   ]
  },
  {
   "cell_type": "markdown",
   "metadata": {
    "collapsed": true
   },
   "source": [
    "Para explicar e teorizar sobre meu modelo, pretendo ultilizar distribuições Gama e as de Weibull"
   ]
  },
  {
   "cell_type": "code",
   "execution_count": 6,
   "metadata": {
    "collapsed": false,
    "scrolled": true
   },
   "outputs": [
    {
     "data": {
      "image/png": "[encoded data removed]",
      "text/plain": [
       "<matplotlib.figure.Figure at 0x2ad0fabed68>"
      ]
     },
     "metadata": {},
     "output_type": "display_data"
    }
   ],
   "source": [
    "#Estimativa com o modelo de Weibull:\n",
    "\n",
    "Escala = 2\n",
    "Fscale = 0.5\n",
    "\n",
    "c = 1.8\n",
    "mean, var, skew, kurt = weibull_min.stats(c, moments='mvsk')\n",
    "\n",
    "x = np.linspace(weibull_min.ppf(0.00001, c),weibull_min.ppf(0.999, c), 10000)\n",
    "plt.plot(x, weibull_min.pdf(x, c,loc = 0.65,scale = Fscale))\n",
    "\n",
    "rv = weibull_min(c)\n",
    "plt.plot((x/Escala) +0.65, rv.pdf(x) * Escala, 'k-', lw=2) #Esse plot foi feito primeiro antes de eu aprender a ler a documentação :D\n",
    "\n",
    "\n",
    "plt.hist((Meses.Mes/1500000), 20, normed=1, facecolor='green', alpha=0.5)\n",
    "\n",
    "plt.show()"
   ]
  },
  {
   "cell_type": "code",
   "execution_count": 7,
   "metadata": {
    "collapsed": false
   },
   "outputs": [
    {
     "data": {
      "image/png": "[encoded data removed]",
      "text/plain": [
       "<matplotlib.figure.Figure at 0x2ad11558400>"
      ]
     },
     "metadata": {},
     "output_type": "display_data"
    }
   ],
   "source": [
    "#Estimativa pela distribuição Gamma\n",
    "\n",
    "Escala = 5\n",
    "FScale = 1/Escala\n",
    "\n",
    "a = 2.39\n",
    "mean, var, skew, kurt = gamma.stats(a, moments='mvsk')\n",
    "\n",
    "x = np.linspace(gamma.ppf(0.0001, a),gamma.ppf(0.7, a), 100)\n",
    "plt.plot(x, gamma.pdf(x, a,loc = 0.65,scale = FScale),'r', lw=2)\n",
    "\n",
    "plt.hist((Meses.Mes/1500000), 20, normed=1, facecolor='green', alpha=0.5)\n",
    "\n",
    "plt.show()"
   ]
  },
  {
   "cell_type": "markdown",
   "metadata": {},
   "source": [
    "Agora, usando a função .fit() para ambas as distribuições:"
   ]
  },
  {
   "cell_type": "code",
   "execution_count": 8,
   "metadata": {
    "collapsed": false
   },
   "outputs": [
    {
     "data": {
      "image/png": "[encoded data removed]",
      "text/plain": [
       "<matplotlib.figure.Figure at 0x2ad116a9978>"
      ]
     },
     "metadata": {},
     "output_type": "display_data"
    }
   ],
   "source": [
    "FitW = weibull_min.fit(Meses.Mes/1500000,c)\n",
    "\n",
    "FscaleWei = FitW[2]\n",
    "\n",
    "c = FitW[0]\n",
    "mean, var, skew, kurt = weibull_min.stats(c, moments='mvsk')\n",
    "\n",
    "xWei = np.linspace(weibull_min.ppf(0.3, c),weibull_min.ppf(0.99, c), 10000)\n",
    "plt.plot(xWei, weibull_min.pdf(xWei, c,loc = FitW[1],scale = FscaleWei),color = \"black\",lw = 2)\n",
    "\n",
    "plt.hist((Meses.Mes/1500000), 20, normed=1, facecolor='green', alpha=0.5)\n",
    "\n",
    "plt.show()"
   ]
  },
  {
   "cell_type": "code",
   "execution_count": 9,
   "metadata": {
    "collapsed": false
   },
   "outputs": [
    {
     "data": {
      "image/png": "[encoded data removed]",
      "text/plain": [
       "<matplotlib.figure.Figure at 0x2ad11659978>"
      ]
     },
     "metadata": {},
     "output_type": "display_data"
    }
   ],
   "source": [
    "FitG = gamma.fit(Meses.Mes/1500000,c)\n",
    "\n",
    "FScaleG = FitG[2]\n",
    "a = FitG[0]\n",
    "\n",
    "mean, var, skew, kurt = gamma.stats(a, moments='mvsk')\n",
    "\n",
    "xGamma = np.linspace(gamma.ppf(0.05, a),gamma.ppf(0.68, a), 100)\n",
    "plt.plot(xGamma, gamma.pdf(xGamma, a,loc = FitG[1],scale = FScaleG),'r', lw=2)\n",
    "\n",
    "plt.hist((Meses.Mes/1500000), 20, normed=1, facecolor='green', alpha=0.5)\n",
    "\n",
    "plt.show()"
   ]
  },
  {
   "cell_type": "markdown",
   "metadata": {
    "collapsed": true
   },
   "source": [
    "___\n",
    "### Itens 7 a 9 - Resolução:"
   ]
  },
  {
   "cell_type": "markdown",
   "metadata": {
    "collapsed": true
   },
   "source": [
    "Vou usar as variaveis retornadas pelo .fit()"
   ]
  },
  {
   "cell_type": "code",
   "execution_count": 10,
   "metadata": {
    "collapsed": false
   },
   "outputs": [
    {
     "name": "stdout",
     "output_type": "stream",
     "text": [
      "Distribuição de Weibull\n"
     ]
    },
    {
     "data": {
      "image/png": "[encoded data removed]",
      "text/plain": [
       "<matplotlib.figure.Figure at 0x2ad1179a390>"
      ]
     },
     "metadata": {},
     "output_type": "display_data"
    },
    {
     "name": "stdout",
     "output_type": "stream",
     "text": [
      "Distriuição Gamma\n"
     ]
    },
    {
     "data": {
      "image/png": "[encoded data removed]",
      "text/plain": [
       "<matplotlib.figure.Figure at 0x2ad117d9080>"
      ]
     },
     "metadata": {},
     "output_type": "display_data"
    }
   ],
   "source": [
    "Fit = weibull_min.fit(Meses.Mes/1500000,c)\n",
    "\n",
    "Fscale = Fit[2]\n",
    "\n",
    "c = Fit[0]\n",
    "mean, var, skew, kurt = weibull_min.stats(c, moments='mvsk')\n",
    "\n",
    "x = np.linspace(weibull_min.ppf(0.3, c),weibull_min.ppf(0.99, c), 10000)\n",
    "plt.plot(x, weibull_min.pdf(x, c,loc = Fit[1],scale = Fscale),color = \"black\",lw = 2)\n",
    "\n",
    "plt.hist((Meses.Mes/1500000), 20, normed=1, facecolor='green', alpha=0.5)\n",
    "plt.title = \"Distribuição de Weibull\"\n",
    "print(\"Distribuição de Weibull\")\n",
    "plt.show()\n",
    "\n",
    "Fit = gamma.fit(Meses.Mes/1500000,c)\n",
    "\n",
    "FScale = Fit[2]\n",
    "a = Fit[0]\n",
    "\n",
    "mean, var, skew, kurt = gamma.stats(a, moments='mvsk')\n",
    "\n",
    "x = np.linspace(gamma.ppf(0.05, a),gamma.ppf(0.68, a), 100)\n",
    "plt.plot(x, gamma.pdf(x, a,loc = Fit[1],scale = FScale),'r', lw=2)\n",
    "\n",
    "plt.hist((Meses.Mes/1500000), 20, normed=1, facecolor='green', alpha=0.5)\n",
    "print(\"Distriuição Gamma\")\n",
    "plt.show()"
   ]
  },
  {
   "cell_type": "code",
   "execution_count": 11,
   "metadata": {
    "collapsed": false
   },
   "outputs": [
    {
     "name": "stdout",
     "output_type": "stream",
     "text": [
      "\n",
      "Análise:\n",
      "    Ambas as distribuições uma precisão razoavel de acordo com os dados empiricos. A diferença mais evidente é \n",
      "    a existencia de cauda a esquerda na distribuição Gamma.\n",
      "    \n",
      "    Interessante também perceber que as variaveis retornadas na função .fit() estão bem proximas as estimativas \n",
      "    feitas a olho anteriormente.\n",
      "    \n",
      "    E o modelo não ficaria muito preciso na area entre 1 e 1.2, ja que a forma do histograma fica bem diferente \n",
      "    da sugerida pelas funções. Então estimando as probabilidades nessa area, os valores dado pelo modelo teorico \n",
      "    vao ficar diferentes do modelo empirico, isso tambem faz com que a estimativa nas outras regiões não seja \n",
      "    tão precisa, ja que a area sempre sera zero.\n",
      "    \n"
     ]
    }
   ],
   "source": [
    "print(\"\"\"\n",
    "Análise:\n",
    "    Ambas as distribuições uma precisão razoavel de acordo com os dados empiricos. A diferença mais evidente é \n",
    "    a existencia de cauda a esquerda na distribuição Gamma.\n",
    "    \n",
    "    Interessante também perceber que as variaveis retornadas na função .fit() estão bem proximas as estimativas \n",
    "    feitas a olho anteriormente.\n",
    "    \n",
    "    E o modelo não ficaria muito preciso na area entre 1 e 1.2, ja que a forma do histograma fica bem diferente \n",
    "    da sugerida pelas funções. Então estimando as probabilidades nessa area, os valores dado pelo modelo teorico \n",
    "    vao ficar diferentes do modelo empirico, isso tambem faz com que a estimativa nas outras regiões não seja \n",
    "    tão precisa, ja que a area sempre sera zero.\n",
    "    \"\"\")"
   ]
  },
  {
   "cell_type": "code",
   "execution_count": 24,
   "metadata": {
    "collapsed": false,
    "scrolled": false
   },
   "outputs": [
    {
     "data": {
      "text/plain": [
       "[]"
      ]
     },
     "execution_count": 24,
     "metadata": {},
     "output_type": "execute_result"
    },
    {
     "data": {
      "image/png": "[encoded data removed]",
      "text/plain": [
       "<matplotlib.figure.Figure at 0x2ad11efa828>"
      ]
     },
     "metadata": {},
     "output_type": "display_data"
    }
   ],
   "source": [
    "tempos = pd.Series(data=sorted(Meses.Mes/1500000))\n",
    "\n",
    "# Calcula a frequência relativa acumulada com os dados vindos dos arquivos\n",
    "fra = [] # frequencia relativa acumulada\n",
    "for i in range(len(tempos)):\n",
    "    acc = (i - 0.5) / len(tempos)\n",
    "    if acc < 0:\n",
    "        acc = 0\n",
    "    fra.append(acc) # ver Magalhães e Lima (pag. 195)\n",
    "\n",
    "# Convertemos fra em uma Series do Pandas\n",
    "fra = pd.Series(data=fra)\n",
    "\n",
    "# Gera os valores dos quantis teóricos para as distribuições analisadas\n",
    "q_Wei = weibull_min.ppf(fra, scale=FscaleWei,c = c,loc = FitW[1]) # quantis teóricos da exponencial\n",
    "q_gamma = gamma.ppf(fra, scale=FScaleG, loc=FitG[1], a=a)\n",
    "\n",
    "\n",
    "fig = plt.figure(figsize=(12,8))\n",
    "\n",
    "exp_plot, = plt.plot(tempos, q_Wei, 'o', color=\"red\", label=\"Weibull\")\n",
    "gamma_plot, = plt.plot(tempos, q_gamma, 'o', color=\"green\", label = \"Gamma\")\n",
    "\n",
    "plt.legend(handles=[exp_plot, gamma_plot])\n",
    "plt.plot((min(tempos), max(tempos)), (min(tempos), max(tempos)), '-')\n",
    "\n",
    "\n",
    "for i in range(len(tempos)):\n",
    "    plt.plot((tempos[i], tempos[i]), (q_Wei[i], tempos[i]), '-', color='red', alpha=0.3  )\n",
    "    plt.plot((tempos[i], tempos[i]), (q_gamma[i], tempos[i]), '-', color='green', alpha=0.3  )\n",
    "plt.plot()\n"
   ]
  },
  {
   "cell_type": "code",
   "execution_count": 35,
   "metadata": {
    "collapsed": false,
    "scrolled": false
   },
   "outputs": [
    {
     "data": {
      "image/png": "[encoded data removed]",
      "text/plain": [
       "<matplotlib.figure.Figure at 0x2ad11e2a7b8>"
      ]
     },
     "metadata": {},
     "output_type": "display_data"
    }
   ],
   "source": [
    "fraWei = q_Wei\n",
    "fraGamma = q_gamma\n",
    "\n",
    "Gamma = gamma.fit(Meses.Mes/1500000)\n",
    "WeiBull = weibull_min.fit(Meses.Mes/1500000) \n",
    "\n",
    "cdfGamma = gamma.cdf(tempos,  Gamma[0],loc = Gamma[1],scale = Gamma[2])\n",
    "cdfWei = weibull_min.cdf(tempos, WeiBull[0],loc = WeiBull[1], scale = WeiBull[2])\n",
    "\n",
    "plt.plot(fraWei, cdfWei,label = 'Weibull')\n",
    "plt.plot(fraGamma, cdfGamma,label = 'Gamma')\n",
    "plt.legend()\n",
    "plt.show()"
   ]
  },
  {
   "cell_type": "code",
   "execution_count": 36,
   "metadata": {
    "collapsed": false
   },
   "outputs": [
    {
     "name": "stdout",
     "output_type": "stream",
     "text": [
      "\n",
      "Analise:\n",
      "   podemos ver no grafico que ambas as distribuições, como esperado, são bem parecidas em suas diferenças com o modelo real.\n",
      "   o formato do grafico se da aos ja mencionados erros do modelo empirico.\n",
      "\n"
     ]
    }
   ],
   "source": [
    "print('''\n",
    "Analise:\n",
    "   podemos ver no grafico que ambas as distribuições, como esperado, são bem parecidas em suas diferenças com o modelo real.\n",
    "   o formato do grafico se da aos ja mencionados erros do modelo empirico.\n",
    "''')"
   ]
  },
  {
   "cell_type": "markdown",
   "metadata": {},
   "source": [
    "___\n",
    "### Itens 10 e 11 - Resolução:"
   ]
  },
  {
   "cell_type": "code",
   "execution_count": 37,
   "metadata": {
    "collapsed": false
   },
   "outputs": [
    {
     "name": "stdout",
     "output_type": "stream",
     "text": [
      "Erro quadrático da Weibull :0.146\n",
      "\n",
      "Erro quadrático da gamma :0.218\n",
      "\n"
     ]
    }
   ],
   "source": [
    "erro_quadratico_Weibull = sum((tempos - q_Wei)**2)\n",
    "erro_quadratico_gamma = sum((tempos - q_gamma)**2)\n",
    "\n",
    "print(\"Erro quadrático da Weibull :{:4.3f}\\n\".format(erro_quadratico_Weibull))\n",
    "print(\"Erro quadrático da gamma :{:4.3f}\\n\".format(erro_quadratico_gamma))\n"
   ]
  },
  {
   "cell_type": "code",
   "execution_count": 41,
   "metadata": {
    "collapsed": false
   },
   "outputs": [
    {
     "name": "stdout",
     "output_type": "stream",
     "text": [
      "Erro quadratico médio da Weibull : 0.000809488422477\n",
      "Erro quadratico médio da gamma : 0.00120974924571\n"
     ]
    }
   ],
   "source": [
    "eqm_Wei = erro_quadratico_Weibull/len(tempos)\n",
    "eqm_gamma = erro_quadratico_gamma/len(tempos)\n",
    "\n",
    "print(\"Erro quadratico médio da Weibull :\", eqm_Wei)\n",
    "print(\"Erro quadratico médio da gamma :\", eqm_gamma)"
   ]
  },
  {
   "cell_type": "code",
   "execution_count": 42,
   "metadata": {
    "collapsed": false
   },
   "outputs": [
    {
     "name": "stdout",
     "output_type": "stream",
     "text": [
      "Soma de diferenças da Weibull : 4.12469074503\n",
      "Soma de diferenças da gamma : 4.657254123\n"
     ]
    }
   ],
   "source": [
    "soma_diferenças_Weibull = sum(abs(tempos - q_Wei))\n",
    "soma_diferenças_gamma = sum(abs(tempos - q_gamma))\n",
    "\n",
    "print(\"Soma de diferenças da Weibull :\", soma_diferenças_Weibull)\n",
    "print(\"Soma de diferenças da gamma :\", soma_diferenças_gamma)\n"
   ]
  },
  {
   "cell_type": "code",
   "execution_count": 45,
   "metadata": {
    "collapsed": false
   },
   "outputs": [
    {
     "data": {
      "image/png": "[encoded data removed]",
      "text/plain": [
       "<matplotlib.figure.Figure at 0x2ad11fb7d68>"
      ]
     },
     "metadata": {},
     "output_type": "display_data"
    }
   ],
   "source": [
    "# fra e FDA\n",
    "cdf_Weibull = weibull_min.cdf(tempos,WeiBull[0],loc = WeiBull[1], scale = WeiBull[2]) #FDA\n",
    "cdf_gamma = gamma.cdf(tempos,Gamma[0],loc = Gamma[1],scale = Gamma[2])\n",
    "\n",
    "\n",
    "fig = plt.figure(figsize=(12,8))\n",
    "\n",
    "dados_fra_plot, = plt.plot(tempos, fra, '-', color='black', label=\"F.R.A dos dados\")\n",
    "cdf_Wei_plot,   = plt.plot(tempos, cdf_Weibull, '-', color='red', label = \"Cumulativa da Distribuição Weibull\")\n",
    "cdf_gamma_plot, = plt.plot(tempos, cdf_gamma, '-', color='green', label = \"Cumulativa da distribuição Gamma\")\n",
    "\n",
    "plt.legend(handles=[dados_fra_plot, cdf_Wei_plot, cdf_gamma_plot])\n",
    "\n",
    "\n",
    "for i in range(len(tempos)):\n",
    "    plt.plot((tempos[i], tempos[i]), (fra[i], cdf_Weibull[i]), ':', color=\"red\", alpha=0.3)\n",
    "    #Omitido para não poluir muito o gráfico\n",
    "    plt.plot((tempos[i], tempos[i]), (fra[i], cdf_gamma[i]), '--', color=\"green\", alpha=0.3)\n",
    "    "
   ]
  },
  {
   "cell_type": "code",
   "execution_count": 48,
   "metadata": {
    "collapsed": false
   },
   "outputs": [
    {
     "name": "stdout",
     "output_type": "stream",
     "text": [
      "Erro quadrático da CDF da Exponencial versus F.R.A 0.143937736286\n",
      "Erro quadrático da CDF da Gamma versus F.R.A 0.145761713777\n"
     ]
    }
   ],
   "source": [
    "# Erro quadrático nas CDFs\n",
    "erro_quad_cdf_Weibull = sum((fra - cdf_Weibull)**2)\n",
    "\n",
    "erro_quad_cdf_gamma = sum((fra - cdf_gamma)**2)\n",
    "print(\"Erro quadrático da CDF da Exponencial versus F.R.A\", erro_quad_cdf_Weibull)\n",
    "print(\"Erro quadrático da CDF da Gamma versus F.R.A\", erro_quad_cdf_gamma)\n"
   ]
  },
  {
   "cell_type": "code",
   "execution_count": 50,
   "metadata": {
    "collapsed": false
   },
   "outputs": [
    {
     "name": "stdout",
     "output_type": "stream",
     "text": [
      "Erro da soma do módulo das diferenças da exponencial versus F.R.A: 3.834518057720617 \n",
      "Erro da soma do módulo das diferenças da gamma versus F.R.A: 4.016594712597958\n"
     ]
    }
   ],
   "source": [
    "# Diferenças absolutas\n",
    "soma_difs_cdf_Weibull = sum( abs(fra - cdf_Weibull))\n",
    "soma_difs_cdf_gamma = sum( abs(fra - cdf_gamma))\n",
    "\n",
    "print(\"Erro da soma do módulo das diferenças da exponencial versus F.R.A: {0} \\nErro da soma do módulo das diferenças da gamma versus F.R.A: {1}\".format(soma_difs_cdf_Weibull, soma_difs_cdf_gamma))"
   ]
  },
  {
   "cell_type": "code",
   "execution_count": 55,
   "metadata": {
    "collapsed": false
   },
   "outputs": [
    {
     "name": "stdout",
     "output_type": "stream",
     "text": [
      "Teste K-S para a exponencial com μ= 0.65: 0.074\n",
      "Teste K-S para a gamma com scale=0.192, loc=0 e a=0.630  0.067:\n"
     ]
    }
   ],
   "source": [
    "# Kolmogorov-Smirnov goodness-of-fit test\n",
    "ks_aderencia_Weibull = max(abs(fra-cdf_Weibull))\n",
    "ks_aderencia_gamma = max(abs(fra-cdf_gamma))\n",
    "\n",
    "\n",
    "print(\"Teste K-S para a exponencial com μ= {:4.2f}: {:4.3f}\\n\\\n",
    "Teste K-S para a gamma com scale={:4.3f}, loc=0 e a={:4.3f}  {:4.3f}:\".format(WeiBull[1], ks_aderencia_Weibull, Gamma[2], Gamma[1], ks_aderencia_gamma))"
   ]
  },
  {
   "cell_type": "code",
   "execution_count": 59,
   "metadata": {
    "collapsed": false
   },
   "outputs": [
    {
     "name": "stdout",
     "output_type": "stream",
     "text": [
      "Erro Quadratico --- Weibull -> 0.145707916046 --- Gamma -> 0.217754864228\n",
      "Soma das diferenças --- Weibull -> 4.12469074503 --- Gamma -> 4.657254123\n",
      "Erros quadraticos CDF --- Weibull -> 0.143937736286 --- Gamma -> 0.145761713777\n",
      "Diferença absoluta --- Weibull -> 3.83451805772 --- Gamma -> 4.0165947126\n",
      "Teste K-S --- Weibull -> 0.0736481065176 --- Gamma -> 0.0665274568578\n",
      "\n",
      "De acordo com as analises e os erros e comparações, tivemos a seguinte pontuação:\n",
      "Weibull -> 4 Gamma -> 1\n",
      "E por esses dados, acredito que a melhor disribuição para o modlo seja a: Weibull\n"
     ]
    }
   ],
   "source": [
    "lista_parametros = [\"Erro Quadratico\",\"Soma das diferenças\",'Erros quadraticos CDF','Diferença absoluta','Teste K-S']\n",
    "lista_Wei = [erro_quadratico_Weibull,soma_diferenças_Weibull,erro_quad_cdf_Weibull,soma_difs_cdf_Weibull,ks_aderencia_Weibull]\n",
    "lista_gamma = [erro_quadratico_gamma,soma_diferenças_gamma,erro_quad_cdf_gamma,soma_difs_cdf_gamma,ks_aderencia_gamma]\n",
    "WeiScore = 0\n",
    "GammaScore = 0\n",
    "\n",
    "for i in range(len(lista_parametros)):\n",
    "    print(lista_parametros[i], '--- Weibull ->',lista_Wei[i],'--- Gamma ->',lista_gamma[i])\n",
    "    if lista_Wei[i] < lista_gamma[i]:\n",
    "        WeiScore += 1\n",
    "    else:\n",
    "        GammaScore += 1\n",
    "\n",
    "Winner = \"Gamma\"\n",
    "if WeiScore > GammaScore:\n",
    "    Winner = \"Weibull\"\n",
    "print(\"\")\n",
    "print(\"De acordo com as analises e os erros e comparações, tivemos a seguinte pontuação:\")\n",
    "print(\"Weibull ->\",WeiScore,'Gamma ->',GammaScore)\n",
    "print(\"E por esses dados, acredito que a melhor disribuição para o modlo seja a:\",Winner)"
   ]
  },
  {
   "cell_type": "code",
   "execution_count": null,
   "metadata": {
    "collapsed": true
   },
   "outputs": [],
   "source": []
  }
 ],
 "metadata": {
  "anaconda-cloud": {},
  "kernelspec": {
   "display_name": "Python [Root]",
   "language": "python",
   "name": "Python [Root]"
  },
  "language_info": {
   "codemirror_mode": {
    "name": "ipython",
    "version": 3
   },
   "file_extension": ".py",
   "mimetype": "text/x-python",
   "name": "python",
   "nbconvert_exporter": "python",
   "pygments_lexer": "ipython3",
   "version": "3.5.2"
  }
 },
 "nbformat": 4,
 "nbformat_minor": 0
}
