{
 "cells": [
  {
   "cell_type": "markdown",
   "metadata": {},
   "source": [
    "# Projeto 3 - Parte 1\n",
    "\n",
    "## Eduardo Ferrari Magalhães, Jean Luca Walper\n",
    "\n",
    "### Nessa parte do projeto o objetivo é selecionar as variaveis que serão utilizadas no processo de regreção nas proxmas etapas"
   ]
  },
  {
   "cell_type": "code",
   "execution_count": 1,
   "metadata": {
    "collapsed": true
   },
   "outputs": [],
   "source": [
    "%matplotlib inline\n",
    "import pandas as pd\n",
    "import matplotlib.pyplot as plt\n",
    "import numpy as np\n",
    "from scipy import stats"
   ]
  },
  {
   "cell_type": "markdown",
   "metadata": {},
   "source": [
    "## Tratameto de Dados"
   ]
  },
  {
   "cell_type": "code",
   "execution_count": 2,
   "metadata": {
    "collapsed": false
   },
   "outputs": [],
   "source": [
    "Religions = pd.read_csv('Religions.csv', sep=';')\n",
    "Work = pd.read_csv('Emprego.csv', sep=';')\n",
    "Literacy = pd.read_csv('Alfabetismo.csv', encoding='latin1', sep=';')\n",
    "War = pd.read_csv('WarDeaths.csv', sep=';')\n",
    "PIB = pd.read_csv('PIBCapta.csv', encoding='latin1', sep=';')\n",
    "\n",
    "Work = Work.drop('Arroz', 1)"
   ]
  },
  {
   "cell_type": "code",
   "execution_count": 3,
   "metadata": {
    "collapsed": false
   },
   "outputs": [
    {
     "data": {
      "text/html": [
       "<div>\n",
       "<table border=\"1\" class=\"dataframe\">\n",
       "  <thead>\n",
       "    <tr style=\"text-align: right;\">\n",
       "      <th></th>\n",
       "      <th>CaseID$</th>\n",
       "      <th>YEAR</th>\n",
       "      <th>COWCODE</th>\n",
       "      <th>ARDACODE</th>\n",
       "      <th>ISO3</th>\n",
       "      <th>NUMISO</th>\n",
       "      <th>COUNTRY</th>\n",
       "      <th>CHRSPROT</th>\n",
       "      <th>CHRSCAT</th>\n",
       "      <th>CHRSORTH</th>\n",
       "      <th>...</th>\n",
       "      <th>OTGENPCT</th>\n",
       "      <th>SUMPCT</th>\n",
       "      <th>TOTAL</th>\n",
       "      <th>DUALREL</th>\n",
       "      <th>DATATYPE</th>\n",
       "      <th>SRELIAB</th>\n",
       "      <th>RRELIAB</th>\n",
       "      <th>RELIAB</th>\n",
       "      <th>SOURCECD</th>\n",
       "      <th>VERSION</th>\n",
       "    </tr>\n",
       "  </thead>\n",
       "  <tbody>\n",
       "    <tr>\n",
       "      <th>0</th>\n",
       "      <td>1</td>\n",
       "      <td>1945</td>\n",
       "      <td>2</td>\n",
       "      <td>234</td>\n",
       "      <td>USA</td>\n",
       "      <td>840.0</td>\n",
       "      <td>United States of America</td>\n",
       "      <td>66069671</td>\n",
       "      <td>38716742</td>\n",
       "      <td>1121898</td>\n",
       "      <td>...</td>\n",
       "      <td>39</td>\n",
       "      <td>9961</td>\n",
       "      <td>1</td>\n",
       "      <td>0</td>\n",
       "      <td>34</td>\n",
       "      <td>2</td>\n",
       "      <td>10</td>\n",
       "      <td>2</td>\n",
       "      <td>13</td>\n",
       "      <td>11</td>\n",
       "    </tr>\n",
       "    <tr>\n",
       "      <th>1</th>\n",
       "      <td>2</td>\n",
       "      <td>1950</td>\n",
       "      <td>2</td>\n",
       "      <td>234</td>\n",
       "      <td>USA</td>\n",
       "      <td>840.0</td>\n",
       "      <td>United States of America</td>\n",
       "      <td>73090083</td>\n",
       "      <td>42635882</td>\n",
       "      <td>3045420</td>\n",
       "      <td>...</td>\n",
       "      <td>41</td>\n",
       "      <td>9959</td>\n",
       "      <td>1</td>\n",
       "      <td>0</td>\n",
       "      <td>34</td>\n",
       "      <td>6</td>\n",
       "      <td>28</td>\n",
       "      <td>1</td>\n",
       "      <td>18</td>\n",
       "      <td>11</td>\n",
       "    </tr>\n",
       "    <tr>\n",
       "      <th>2</th>\n",
       "      <td>3</td>\n",
       "      <td>1955</td>\n",
       "      <td>2</td>\n",
       "      <td>234</td>\n",
       "      <td>USA</td>\n",
       "      <td>840.0</td>\n",
       "      <td>United States of America</td>\n",
       "      <td>79294628</td>\n",
       "      <td>46402368</td>\n",
       "      <td>3454916</td>\n",
       "      <td>...</td>\n",
       "      <td>193</td>\n",
       "      <td>9807</td>\n",
       "      <td>1</td>\n",
       "      <td>0</td>\n",
       "      <td>134</td>\n",
       "      <td>5</td>\n",
       "      <td>10</td>\n",
       "      <td>2</td>\n",
       "      <td>15</td>\n",
       "      <td>11</td>\n",
       "    </tr>\n",
       "    <tr>\n",
       "      <th>3</th>\n",
       "      <td>4</td>\n",
       "      <td>1960</td>\n",
       "      <td>2</td>\n",
       "      <td>234</td>\n",
       "      <td>USA</td>\n",
       "      <td>840.0</td>\n",
       "      <td>United States of America</td>\n",
       "      <td>90692928</td>\n",
       "      <td>50587880</td>\n",
       "      <td>3334535</td>\n",
       "      <td>...</td>\n",
       "      <td>76</td>\n",
       "      <td>9924</td>\n",
       "      <td>1</td>\n",
       "      <td>0</td>\n",
       "      <td>134</td>\n",
       "      <td>2</td>\n",
       "      <td>10</td>\n",
       "      <td>2</td>\n",
       "      <td>13</td>\n",
       "      <td>11</td>\n",
       "    </tr>\n",
       "    <tr>\n",
       "      <th>4</th>\n",
       "      <td>5</td>\n",
       "      <td>1965</td>\n",
       "      <td>2</td>\n",
       "      <td>234</td>\n",
       "      <td>USA</td>\n",
       "      <td>840.0</td>\n",
       "      <td>United States of America</td>\n",
       "      <td>94165803</td>\n",
       "      <td>64761783</td>\n",
       "      <td>4792868</td>\n",
       "      <td>...</td>\n",
       "      <td>3</td>\n",
       "      <td>997</td>\n",
       "      <td>1</td>\n",
       "      <td>0</td>\n",
       "      <td>134</td>\n",
       "      <td>8</td>\n",
       "      <td>28</td>\n",
       "      <td>1</td>\n",
       "      <td>20</td>\n",
       "      <td>11</td>\n",
       "    </tr>\n",
       "  </tbody>\n",
       "</table>\n",
       "<p>5 rows × 88 columns</p>\n",
       "</div>"
      ],
      "text/plain": [
       "   CaseID$  YEAR  COWCODE  ARDACODE ISO3  NUMISO                   COUNTRY  \\\n",
       "0        1  1945        2       234  USA   840.0  United States of America   \n",
       "1        2  1950        2       234  USA   840.0  United States of America   \n",
       "2        3  1955        2       234  USA   840.0  United States of America   \n",
       "3        4  1960        2       234  USA   840.0  United States of America   \n",
       "4        5  1965        2       234  USA   840.0  United States of America   \n",
       "\n",
       "   CHRSPROT   CHRSCAT  CHRSORTH   ...     OTGENPCT  SUMPCT  TOTAL  DUALREL  \\\n",
       "0  66069671  38716742   1121898   ...           39    9961      1        0   \n",
       "1  73090083  42635882   3045420   ...           41    9959      1        0   \n",
       "2  79294628  46402368   3454916   ...          193    9807      1        0   \n",
       "3  90692928  50587880   3334535   ...           76    9924      1        0   \n",
       "4  94165803  64761783   4792868   ...            3     997      1        0   \n",
       "\n",
       "   DATATYPE  SRELIAB  RRELIAB  RELIAB  SOURCECD  VERSION  \n",
       "0        34        2       10       2        13       11  \n",
       "1        34        6       28       1        18       11  \n",
       "2       134        5       10       2        15       11  \n",
       "3       134        2       10       2        13       11  \n",
       "4       134        8       28       1        20       11  \n",
       "\n",
       "[5 rows x 88 columns]"
      ]
     },
     "execution_count": 3,
     "metadata": {},
     "output_type": "execute_result"
    }
   ],
   "source": [
    "Religions.head(5)"
   ]
  },
  {
   "cell_type": "code",
   "execution_count": 4,
   "metadata": {
    "collapsed": false
   },
   "outputs": [
    {
     "data": {
      "text/html": [
       "<div>\n",
       "<table border=\"1\" class=\"dataframe\">\n",
       "  <thead>\n",
       "    <tr style=\"text-align: right;\">\n",
       "      <th></th>\n",
       "      <th>Total above 15 employment to population (%)</th>\n",
       "      <th>1991</th>\n",
       "      <th>1992</th>\n",
       "      <th>1993</th>\n",
       "      <th>1994</th>\n",
       "      <th>1995</th>\n",
       "      <th>1996</th>\n",
       "      <th>1997</th>\n",
       "      <th>1998</th>\n",
       "      <th>1999</th>\n",
       "      <th>2000</th>\n",
       "      <th>2001</th>\n",
       "      <th>2002</th>\n",
       "      <th>2003</th>\n",
       "      <th>2004</th>\n",
       "      <th>2005</th>\n",
       "      <th>2006</th>\n",
       "      <th>2007</th>\n",
       "    </tr>\n",
       "  </thead>\n",
       "  <tbody>\n",
       "    <tr>\n",
       "      <th>0</th>\n",
       "      <td>Afghanistan</td>\n",
       "      <td>56.700001</td>\n",
       "      <td>56.500000</td>\n",
       "      <td>56.599998</td>\n",
       "      <td>56.200001</td>\n",
       "      <td>56.200001</td>\n",
       "      <td>56.099998</td>\n",
       "      <td>56.200001</td>\n",
       "      <td>56.200001</td>\n",
       "      <td>56.099998</td>\n",
       "      <td>56.099998</td>\n",
       "      <td>56.500000</td>\n",
       "      <td>56.400002</td>\n",
       "      <td>54.400002</td>\n",
       "      <td>56.000000</td>\n",
       "      <td>54.000000</td>\n",
       "      <td>56.000000</td>\n",
       "      <td>55.700001</td>\n",
       "    </tr>\n",
       "    <tr>\n",
       "      <th>1</th>\n",
       "      <td>Albania</td>\n",
       "      <td>52.700001</td>\n",
       "      <td>52.299999</td>\n",
       "      <td>52.400002</td>\n",
       "      <td>52.700001</td>\n",
       "      <td>52.799999</td>\n",
       "      <td>52.599998</td>\n",
       "      <td>52.400002</td>\n",
       "      <td>52.099998</td>\n",
       "      <td>52.099998</td>\n",
       "      <td>51.900002</td>\n",
       "      <td>51.799999</td>\n",
       "      <td>51.799999</td>\n",
       "      <td>51.799999</td>\n",
       "      <td>51.700001</td>\n",
       "      <td>51.500000</td>\n",
       "      <td>51.400002</td>\n",
       "      <td>51.400002</td>\n",
       "    </tr>\n",
       "    <tr>\n",
       "      <th>2</th>\n",
       "      <td>Algeria</td>\n",
       "      <td>39.400002</td>\n",
       "      <td>38.900002</td>\n",
       "      <td>39.400002</td>\n",
       "      <td>39.400002</td>\n",
       "      <td>38.099998</td>\n",
       "      <td>38.900002</td>\n",
       "      <td>39.700001</td>\n",
       "      <td>39.500000</td>\n",
       "      <td>39.400002</td>\n",
       "      <td>38.599998</td>\n",
       "      <td>40.400002</td>\n",
       "      <td>41.500000</td>\n",
       "      <td>42.799999</td>\n",
       "      <td>46.400002</td>\n",
       "      <td>48.000000</td>\n",
       "      <td>50.000000</td>\n",
       "      <td>50.500000</td>\n",
       "    </tr>\n",
       "    <tr>\n",
       "      <th>3</th>\n",
       "      <td>Angola</td>\n",
       "      <td>75.800003</td>\n",
       "      <td>75.800003</td>\n",
       "      <td>75.500000</td>\n",
       "      <td>75.900002</td>\n",
       "      <td>75.800003</td>\n",
       "      <td>75.900002</td>\n",
       "      <td>75.699997</td>\n",
       "      <td>75.599998</td>\n",
       "      <td>75.599998</td>\n",
       "      <td>75.500000</td>\n",
       "      <td>75.500000</td>\n",
       "      <td>75.599998</td>\n",
       "      <td>75.500000</td>\n",
       "      <td>75.500000</td>\n",
       "      <td>75.599998</td>\n",
       "      <td>75.500000</td>\n",
       "      <td>75.699997</td>\n",
       "    </tr>\n",
       "    <tr>\n",
       "      <th>4</th>\n",
       "      <td>Argentina</td>\n",
       "      <td>53.599998</td>\n",
       "      <td>53.799999</td>\n",
       "      <td>53.700001</td>\n",
       "      <td>53.799999</td>\n",
       "      <td>53.500000</td>\n",
       "      <td>54.400002</td>\n",
       "      <td>54.900002</td>\n",
       "      <td>55.000000</td>\n",
       "      <td>54.900002</td>\n",
       "      <td>55.500000</td>\n",
       "      <td>55.599998</td>\n",
       "      <td>55.400002</td>\n",
       "      <td>57.299999</td>\n",
       "      <td>57.700001</td>\n",
       "      <td>58.099998</td>\n",
       "      <td>58.400002</td>\n",
       "      <td>58.400002</td>\n",
       "    </tr>\n",
       "  </tbody>\n",
       "</table>\n",
       "</div>"
      ],
      "text/plain": [
       "  Total above 15 employment to population (%)       1991       1992  \\\n",
       "0                                 Afghanistan  56.700001  56.500000   \n",
       "1                                     Albania  52.700001  52.299999   \n",
       "2                                     Algeria  39.400002  38.900002   \n",
       "3                                      Angola  75.800003  75.800003   \n",
       "4                                   Argentina  53.599998  53.799999   \n",
       "\n",
       "        1993       1994       1995       1996       1997       1998  \\\n",
       "0  56.599998  56.200001  56.200001  56.099998  56.200001  56.200001   \n",
       "1  52.400002  52.700001  52.799999  52.599998  52.400002  52.099998   \n",
       "2  39.400002  39.400002  38.099998  38.900002  39.700001  39.500000   \n",
       "3  75.500000  75.900002  75.800003  75.900002  75.699997  75.599998   \n",
       "4  53.700001  53.799999  53.500000  54.400002  54.900002  55.000000   \n",
       "\n",
       "        1999       2000       2001       2002       2003       2004  \\\n",
       "0  56.099998  56.099998  56.500000  56.400002  54.400002  56.000000   \n",
       "1  52.099998  51.900002  51.799999  51.799999  51.799999  51.700001   \n",
       "2  39.400002  38.599998  40.400002  41.500000  42.799999  46.400002   \n",
       "3  75.599998  75.500000  75.500000  75.599998  75.500000  75.500000   \n",
       "4  54.900002  55.500000  55.599998  55.400002  57.299999  57.700001   \n",
       "\n",
       "        2005       2006       2007  \n",
       "0  54.000000  56.000000  55.700001  \n",
       "1  51.500000  51.400002  51.400002  \n",
       "2  48.000000  50.000000  50.500000  \n",
       "3  75.599998  75.500000  75.699997  \n",
       "4  58.099998  58.400002  58.400002  "
      ]
     },
     "execution_count": 4,
     "metadata": {},
     "output_type": "execute_result"
    }
   ],
   "source": [
    "Work.head(5)"
   ]
  },
  {
   "cell_type": "code",
   "execution_count": 5,
   "metadata": {
    "collapsed": false
   },
   "outputs": [
    {
     "data": {
      "text/html": [
       "<div>\n",
       "<table border=\"1\" class=\"dataframe\">\n",
       "  <thead>\n",
       "    <tr style=\"text-align: right;\">\n",
       "      <th></th>\n",
       "      <th>Adult (15) literacy rate</th>\n",
       "      <th>1975</th>\n",
       "      <th>1976</th>\n",
       "      <th>1977</th>\n",
       "      <th>1978</th>\n",
       "      <th>1979</th>\n",
       "      <th>1980</th>\n",
       "      <th>1981</th>\n",
       "      <th>1982</th>\n",
       "      <th>1983</th>\n",
       "      <th>...</th>\n",
       "      <th>2002</th>\n",
       "      <th>2003</th>\n",
       "      <th>2004</th>\n",
       "      <th>2005</th>\n",
       "      <th>2006</th>\n",
       "      <th>2007</th>\n",
       "      <th>2008</th>\n",
       "      <th>2009</th>\n",
       "      <th>2010</th>\n",
       "      <th>2011</th>\n",
       "    </tr>\n",
       "  </thead>\n",
       "  <tbody>\n",
       "    <tr>\n",
       "      <th>0</th>\n",
       "      <td>Afghanistan</td>\n",
       "      <td>-1.0</td>\n",
       "      <td>-1.0</td>\n",
       "      <td>-1.0</td>\n",
       "      <td>-1.0</td>\n",
       "      <td>18.157681</td>\n",
       "      <td>-1.0</td>\n",
       "      <td>-1.0</td>\n",
       "      <td>-1.0</td>\n",
       "      <td>-1.0</td>\n",
       "      <td>...</td>\n",
       "      <td>-1.0000</td>\n",
       "      <td>-1.0</td>\n",
       "      <td>-1.0</td>\n",
       "      <td>-1.0</td>\n",
       "      <td>-1.000000</td>\n",
       "      <td>-1.0</td>\n",
       "      <td>-1.00000</td>\n",
       "      <td>-1.0</td>\n",
       "      <td>-1.0</td>\n",
       "      <td>39.000000</td>\n",
       "    </tr>\n",
       "    <tr>\n",
       "      <th>1</th>\n",
       "      <td>Albania</td>\n",
       "      <td>-1.0</td>\n",
       "      <td>-1.0</td>\n",
       "      <td>-1.0</td>\n",
       "      <td>-1.0</td>\n",
       "      <td>-1.000000</td>\n",
       "      <td>-1.0</td>\n",
       "      <td>-1.0</td>\n",
       "      <td>-1.0</td>\n",
       "      <td>-1.0</td>\n",
       "      <td>...</td>\n",
       "      <td>-1.0000</td>\n",
       "      <td>-1.0</td>\n",
       "      <td>-1.0</td>\n",
       "      <td>-1.0</td>\n",
       "      <td>-1.000000</td>\n",
       "      <td>-1.0</td>\n",
       "      <td>95.93864</td>\n",
       "      <td>-1.0</td>\n",
       "      <td>-1.0</td>\n",
       "      <td>96.845299</td>\n",
       "    </tr>\n",
       "    <tr>\n",
       "      <th>2</th>\n",
       "      <td>Algeria</td>\n",
       "      <td>-1.0</td>\n",
       "      <td>-1.0</td>\n",
       "      <td>-1.0</td>\n",
       "      <td>-1.0</td>\n",
       "      <td>-1.000000</td>\n",
       "      <td>-1.0</td>\n",
       "      <td>-1.0</td>\n",
       "      <td>-1.0</td>\n",
       "      <td>-1.0</td>\n",
       "      <td>...</td>\n",
       "      <td>69.8735</td>\n",
       "      <td>-1.0</td>\n",
       "      <td>-1.0</td>\n",
       "      <td>-1.0</td>\n",
       "      <td>72.648679</td>\n",
       "      <td>-1.0</td>\n",
       "      <td>-1.00000</td>\n",
       "      <td>-1.0</td>\n",
       "      <td>-1.0</td>\n",
       "      <td>-1.000000</td>\n",
       "    </tr>\n",
       "    <tr>\n",
       "      <th>3</th>\n",
       "      <td>Andorra</td>\n",
       "      <td>-1.0</td>\n",
       "      <td>-1.0</td>\n",
       "      <td>-1.0</td>\n",
       "      <td>-1.0</td>\n",
       "      <td>-1.000000</td>\n",
       "      <td>-1.0</td>\n",
       "      <td>-1.0</td>\n",
       "      <td>-1.0</td>\n",
       "      <td>-1.0</td>\n",
       "      <td>...</td>\n",
       "      <td>-1.0000</td>\n",
       "      <td>-1.0</td>\n",
       "      <td>-1.0</td>\n",
       "      <td>-1.0</td>\n",
       "      <td>-1.000000</td>\n",
       "      <td>-1.0</td>\n",
       "      <td>-1.00000</td>\n",
       "      <td>-1.0</td>\n",
       "      <td>-1.0</td>\n",
       "      <td>-1.000000</td>\n",
       "    </tr>\n",
       "    <tr>\n",
       "      <th>4</th>\n",
       "      <td>Angola</td>\n",
       "      <td>-1.0</td>\n",
       "      <td>-1.0</td>\n",
       "      <td>-1.0</td>\n",
       "      <td>-1.0</td>\n",
       "      <td>-1.000000</td>\n",
       "      <td>-1.0</td>\n",
       "      <td>-1.0</td>\n",
       "      <td>-1.0</td>\n",
       "      <td>-1.0</td>\n",
       "      <td>...</td>\n",
       "      <td>-1.0000</td>\n",
       "      <td>-1.0</td>\n",
       "      <td>-1.0</td>\n",
       "      <td>-1.0</td>\n",
       "      <td>-1.000000</td>\n",
       "      <td>-1.0</td>\n",
       "      <td>-1.00000</td>\n",
       "      <td>-1.0</td>\n",
       "      <td>-1.0</td>\n",
       "      <td>70.362420</td>\n",
       "    </tr>\n",
       "  </tbody>\n",
       "</table>\n",
       "<p>5 rows × 38 columns</p>\n",
       "</div>"
      ],
      "text/plain": [
       "  Adult (15) literacy rate  1975  1976  1977  1978       1979  1980  1981  \\\n",
       "0              Afghanistan  -1.0  -1.0  -1.0  -1.0  18.157681  -1.0  -1.0   \n",
       "1                  Albania  -1.0  -1.0  -1.0  -1.0  -1.000000  -1.0  -1.0   \n",
       "2                  Algeria  -1.0  -1.0  -1.0  -1.0  -1.000000  -1.0  -1.0   \n",
       "3                  Andorra  -1.0  -1.0  -1.0  -1.0  -1.000000  -1.0  -1.0   \n",
       "4                   Angola  -1.0  -1.0  -1.0  -1.0  -1.000000  -1.0  -1.0   \n",
       "\n",
       "   1982  1983    ...         2002  2003  2004  2005       2006  2007  \\\n",
       "0  -1.0  -1.0    ...      -1.0000  -1.0  -1.0  -1.0  -1.000000  -1.0   \n",
       "1  -1.0  -1.0    ...      -1.0000  -1.0  -1.0  -1.0  -1.000000  -1.0   \n",
       "2  -1.0  -1.0    ...      69.8735  -1.0  -1.0  -1.0  72.648679  -1.0   \n",
       "3  -1.0  -1.0    ...      -1.0000  -1.0  -1.0  -1.0  -1.000000  -1.0   \n",
       "4  -1.0  -1.0    ...      -1.0000  -1.0  -1.0  -1.0  -1.000000  -1.0   \n",
       "\n",
       "       2008  2009  2010       2011  \n",
       "0  -1.00000  -1.0  -1.0  39.000000  \n",
       "1  95.93864  -1.0  -1.0  96.845299  \n",
       "2  -1.00000  -1.0  -1.0  -1.000000  \n",
       "3  -1.00000  -1.0  -1.0  -1.000000  \n",
       "4  -1.00000  -1.0  -1.0  70.362420  \n",
       "\n",
       "[5 rows x 38 columns]"
      ]
     },
     "execution_count": 5,
     "metadata": {},
     "output_type": "execute_result"
    }
   ],
   "source": [
    "Literacy.head(5)"
   ]
  },
  {
   "cell_type": "code",
   "execution_count": 6,
   "metadata": {
    "collapsed": false
   },
   "outputs": [
    {
     "data": {
      "text/html": [
       "<div>\n",
       "<table border=\"1\" class=\"dataframe\">\n",
       "  <thead>\n",
       "    <tr style=\"text-align: right;\">\n",
       "      <th></th>\n",
       "      <th>War. age-adjusted mortality due to</th>\n",
       "      <th>2002</th>\n",
       "      <th>2004</th>\n",
       "    </tr>\n",
       "  </thead>\n",
       "  <tbody>\n",
       "    <tr>\n",
       "      <th>0</th>\n",
       "      <td>Afghanistan</td>\n",
       "      <td>36.083990</td>\n",
       "      <td>9.451028</td>\n",
       "    </tr>\n",
       "    <tr>\n",
       "      <th>1</th>\n",
       "      <td>Albania</td>\n",
       "      <td>0.128908</td>\n",
       "      <td>0.130354</td>\n",
       "    </tr>\n",
       "    <tr>\n",
       "      <th>2</th>\n",
       "      <td>Algeria</td>\n",
       "      <td>18.314120</td>\n",
       "      <td>3.407277</td>\n",
       "    </tr>\n",
       "    <tr>\n",
       "      <th>3</th>\n",
       "      <td>Andorra</td>\n",
       "      <td>0.000000</td>\n",
       "      <td>0.000000</td>\n",
       "    </tr>\n",
       "    <tr>\n",
       "      <th>4</th>\n",
       "      <td>Angola</td>\n",
       "      <td>18.964560</td>\n",
       "      <td>2.597931</td>\n",
       "    </tr>\n",
       "  </tbody>\n",
       "</table>\n",
       "</div>"
      ],
      "text/plain": [
       "  War. age-adjusted mortality due to       2002      2004\n",
       "0                        Afghanistan  36.083990  9.451028\n",
       "1                            Albania   0.128908  0.130354\n",
       "2                            Algeria  18.314120  3.407277\n",
       "3                            Andorra   0.000000  0.000000\n",
       "4                             Angola  18.964560  2.597931"
      ]
     },
     "execution_count": 6,
     "metadata": {},
     "output_type": "execute_result"
    }
   ],
   "source": [
    "War.head(5)"
   ]
  },
  {
   "cell_type": "code",
   "execution_count": 7,
   "metadata": {
    "collapsed": false
   },
   "outputs": [
    {
     "data": {
      "text/html": [
       "<div>\n",
       "<table border=\"1\" class=\"dataframe\">\n",
       "  <thead>\n",
       "    <tr style=\"text-align: right;\">\n",
       "      <th></th>\n",
       "      <th>GNI per capita (constant 2000 US$)</th>\n",
       "      <th>1961</th>\n",
       "      <th>1962</th>\n",
       "      <th>1963</th>\n",
       "      <th>1964</th>\n",
       "      <th>1965</th>\n",
       "      <th>1966</th>\n",
       "      <th>1967</th>\n",
       "      <th>1968</th>\n",
       "      <th>1969</th>\n",
       "      <th>...</th>\n",
       "      <th>2002</th>\n",
       "      <th>2003</th>\n",
       "      <th>2004</th>\n",
       "      <th>2005</th>\n",
       "      <th>2006</th>\n",
       "      <th>2007</th>\n",
       "      <th>2008</th>\n",
       "      <th>2009</th>\n",
       "      <th>2010</th>\n",
       "      <th>2011</th>\n",
       "    </tr>\n",
       "  </thead>\n",
       "  <tbody>\n",
       "    <tr>\n",
       "      <th>0</th>\n",
       "      <td>Abkhazia</td>\n",
       "      <td>-1</td>\n",
       "      <td>-1.000000</td>\n",
       "      <td>-1.000000</td>\n",
       "      <td>-1.000000</td>\n",
       "      <td>-1.000000</td>\n",
       "      <td>-1.000000</td>\n",
       "      <td>-1.000000</td>\n",
       "      <td>-1.000000</td>\n",
       "      <td>-1.000000</td>\n",
       "      <td>...</td>\n",
       "      <td>-1.000000</td>\n",
       "      <td>-1.000000</td>\n",
       "      <td>-1.000000</td>\n",
       "      <td>-1.000000</td>\n",
       "      <td>-1.000000</td>\n",
       "      <td>-1.000000</td>\n",
       "      <td>-1.000000</td>\n",
       "      <td>-1.000000</td>\n",
       "      <td>-1.000000</td>\n",
       "      <td>-1.000000</td>\n",
       "    </tr>\n",
       "    <tr>\n",
       "      <th>1</th>\n",
       "      <td>Afghanistan</td>\n",
       "      <td>-1</td>\n",
       "      <td>-1.000000</td>\n",
       "      <td>-1.000000</td>\n",
       "      <td>-1.000000</td>\n",
       "      <td>-1.000000</td>\n",
       "      <td>-1.000000</td>\n",
       "      <td>-1.000000</td>\n",
       "      <td>-1.000000</td>\n",
       "      <td>-1.000000</td>\n",
       "      <td>...</td>\n",
       "      <td>-1.000000</td>\n",
       "      <td>-1.000000</td>\n",
       "      <td>-1.000000</td>\n",
       "      <td>-1.000000</td>\n",
       "      <td>-1.000000</td>\n",
       "      <td>-1.000000</td>\n",
       "      <td>-1.000000</td>\n",
       "      <td>-1.000000</td>\n",
       "      <td>-1.000000</td>\n",
       "      <td>-1.000000</td>\n",
       "    </tr>\n",
       "    <tr>\n",
       "      <th>2</th>\n",
       "      <td>Akrotiri and Dhekelia</td>\n",
       "      <td>-1</td>\n",
       "      <td>-1.000000</td>\n",
       "      <td>-1.000000</td>\n",
       "      <td>-1.000000</td>\n",
       "      <td>-1.000000</td>\n",
       "      <td>-1.000000</td>\n",
       "      <td>-1.000000</td>\n",
       "      <td>-1.000000</td>\n",
       "      <td>-1.000000</td>\n",
       "      <td>...</td>\n",
       "      <td>-1.000000</td>\n",
       "      <td>-1.000000</td>\n",
       "      <td>-1.000000</td>\n",
       "      <td>-1.000000</td>\n",
       "      <td>-1.000000</td>\n",
       "      <td>-1.000000</td>\n",
       "      <td>-1.000000</td>\n",
       "      <td>-1.000000</td>\n",
       "      <td>-1.000000</td>\n",
       "      <td>-1.000000</td>\n",
       "    </tr>\n",
       "    <tr>\n",
       "      <th>3</th>\n",
       "      <td>Albania</td>\n",
       "      <td>-1</td>\n",
       "      <td>-1.000000</td>\n",
       "      <td>-1.000000</td>\n",
       "      <td>-1.000000</td>\n",
       "      <td>-1.000000</td>\n",
       "      <td>-1.000000</td>\n",
       "      <td>-1.000000</td>\n",
       "      <td>-1.000000</td>\n",
       "      <td>-1.000000</td>\n",
       "      <td>...</td>\n",
       "      <td>1352.648116</td>\n",
       "      <td>1424.183882</td>\n",
       "      <td>1491.986581</td>\n",
       "      <td>1557.335305</td>\n",
       "      <td>1642.819673</td>\n",
       "      <td>1738.329863</td>\n",
       "      <td>1832.738787</td>\n",
       "      <td>1833.970388</td>\n",
       "      <td>1892.606705</td>\n",
       "      <td>1951.948995</td>\n",
       "    </tr>\n",
       "    <tr>\n",
       "      <th>4</th>\n",
       "      <td>Algeria</td>\n",
       "      <td>1149</td>\n",
       "      <td>905.611733</td>\n",
       "      <td>1134.790471</td>\n",
       "      <td>1161.124691</td>\n",
       "      <td>1186.038329</td>\n",
       "      <td>1093.232317</td>\n",
       "      <td>1174.228515</td>\n",
       "      <td>1270.101733</td>\n",
       "      <td>1348.675128</td>\n",
       "      <td>...</td>\n",
       "      <td>1799.287152</td>\n",
       "      <td>1891.356938</td>\n",
       "      <td>1954.050680</td>\n",
       "      <td>1999.308671</td>\n",
       "      <td>2025.735284</td>\n",
       "      <td>2110.148627</td>\n",
       "      <td>-1.000000</td>\n",
       "      <td>-1.000000</td>\n",
       "      <td>-1.000000</td>\n",
       "      <td>-1.000000</td>\n",
       "    </tr>\n",
       "  </tbody>\n",
       "</table>\n",
       "<p>5 rows × 52 columns</p>\n",
       "</div>"
      ],
      "text/plain": [
       "  GNI per capita (constant 2000 US$)  1961        1962         1963  \\\n",
       "0                           Abkhazia    -1   -1.000000    -1.000000   \n",
       "1                        Afghanistan    -1   -1.000000    -1.000000   \n",
       "2              Akrotiri and Dhekelia    -1   -1.000000    -1.000000   \n",
       "3                            Albania    -1   -1.000000    -1.000000   \n",
       "4                            Algeria  1149  905.611733  1134.790471   \n",
       "\n",
       "          1964         1965         1966         1967         1968  \\\n",
       "0    -1.000000    -1.000000    -1.000000    -1.000000    -1.000000   \n",
       "1    -1.000000    -1.000000    -1.000000    -1.000000    -1.000000   \n",
       "2    -1.000000    -1.000000    -1.000000    -1.000000    -1.000000   \n",
       "3    -1.000000    -1.000000    -1.000000    -1.000000    -1.000000   \n",
       "4  1161.124691  1186.038329  1093.232317  1174.228515  1270.101733   \n",
       "\n",
       "          1969     ...              2002         2003         2004  \\\n",
       "0    -1.000000     ...         -1.000000    -1.000000    -1.000000   \n",
       "1    -1.000000     ...         -1.000000    -1.000000    -1.000000   \n",
       "2    -1.000000     ...         -1.000000    -1.000000    -1.000000   \n",
       "3    -1.000000     ...       1352.648116  1424.183882  1491.986581   \n",
       "4  1348.675128     ...       1799.287152  1891.356938  1954.050680   \n",
       "\n",
       "          2005         2006         2007         2008         2009  \\\n",
       "0    -1.000000    -1.000000    -1.000000    -1.000000    -1.000000   \n",
       "1    -1.000000    -1.000000    -1.000000    -1.000000    -1.000000   \n",
       "2    -1.000000    -1.000000    -1.000000    -1.000000    -1.000000   \n",
       "3  1557.335305  1642.819673  1738.329863  1832.738787  1833.970388   \n",
       "4  1999.308671  2025.735284  2110.148627    -1.000000    -1.000000   \n",
       "\n",
       "          2010         2011  \n",
       "0    -1.000000    -1.000000  \n",
       "1    -1.000000    -1.000000  \n",
       "2    -1.000000    -1.000000  \n",
       "3  1892.606705  1951.948995  \n",
       "4    -1.000000    -1.000000  \n",
       "\n",
       "[5 rows x 52 columns]"
      ]
     },
     "execution_count": 7,
     "metadata": {},
     "output_type": "execute_result"
    }
   ],
   "source": [
    "PIB.head(5)"
   ]
  },
  {
   "cell_type": "code",
   "execution_count": 8,
   "metadata": {
    "collapsed": false
   },
   "outputs": [],
   "source": [
    "Religiosidade2010 = Religions[Religions.YEAR == 2010]\n",
    "\n",
    "Alfabeismo2011 = pd.DataFrame()\n",
    "Alfabeismo2011[\"Pais\"] = Literacy[\"Adult (15) literacy rate\"]\n",
    "Alfabeismo2011[\"2011\"] = Literacy[\"2011\"]\n",
    "\n",
    "Work2007 = pd.DataFrame()\n",
    "Work2007[\"Pais\"] = Work[\"Total above 15 employment to population (%)\"]\n",
    "Work2007[\"2007\"] = Work[\"2007\"]\n",
    "\n",
    "War2004 = pd.DataFrame()\n",
    "War2004[\"Pais\"] = War[\"War. age-adjusted mortality due to\"]\n",
    "War2004[\"2004\"] = War[\"2004\"]\n",
    "\n",
    "PIB2010 = pd.DataFrame()\n",
    "PIB2010[\"Pais\"] = PIB[\"GNI per capita (constant 2000 US$)\"]\n",
    "PIB2010[\"2010\"] = PIB[\"2010\"]"
   ]
  },
  {
   "cell_type": "code",
   "execution_count": 9,
   "metadata": {
    "collapsed": false
   },
   "outputs": [
    {
     "data": {
      "text/html": [
       "<div>\n",
       "<table border=\"1\" class=\"dataframe\">\n",
       "  <thead>\n",
       "    <tr style=\"text-align: right;\">\n",
       "      <th></th>\n",
       "      <th>Pais</th>\n",
       "      <th>Cristianismo</th>\n",
       "      <th>Judaismo</th>\n",
       "      <th>Islamismo</th>\n",
       "      <th>Budismo</th>\n",
       "      <th>Hindu</th>\n",
       "      <th>SemReligião</th>\n",
       "      <th>Incomum</th>\n",
       "      <th>Outros</th>\n",
       "      <th>Total</th>\n",
       "      <th>População</th>\n",
       "    </tr>\n",
       "  </thead>\n",
       "  <tbody>\n",
       "    <tr>\n",
       "      <th>13</th>\n",
       "      <td>United States of America</td>\n",
       "      <td>233111307</td>\n",
       "      <td>5942248</td>\n",
       "      <td>2814750</td>\n",
       "      <td>3410236</td>\n",
       "      <td>1797698</td>\n",
       "      <td>59422500</td>\n",
       "      <td>5455055</td>\n",
       "      <td>796206</td>\n",
       "      <td>311953794</td>\n",
       "      <td>312750000</td>\n",
       "    </tr>\n",
       "    <tr>\n",
       "      <th>27</th>\n",
       "      <td>Canada</td>\n",
       "      <td>26431104</td>\n",
       "      <td>340304</td>\n",
       "      <td>670000</td>\n",
       "      <td>670000</td>\n",
       "      <td>275000</td>\n",
       "      <td>5670000</td>\n",
       "      <td>408491</td>\n",
       "      <td>35101</td>\n",
       "      <td>34464899</td>\n",
       "      <td>34500000</td>\n",
       "    </tr>\n",
       "    <tr>\n",
       "      <th>35</th>\n",
       "      <td>Bahamas</td>\n",
       "      <td>302657</td>\n",
       "      <td>305</td>\n",
       "      <td>0</td>\n",
       "      <td>0</td>\n",
       "      <td>0</td>\n",
       "      <td>9086</td>\n",
       "      <td>1111</td>\n",
       "      <td>153</td>\n",
       "      <td>313159</td>\n",
       "      <td>313312</td>\n",
       "    </tr>\n",
       "    <tr>\n",
       "      <th>49</th>\n",
       "      <td>Cuba</td>\n",
       "      <td>7407107</td>\n",
       "      <td>1500</td>\n",
       "      <td>8000</td>\n",
       "      <td>0</td>\n",
       "      <td>25000</td>\n",
       "      <td>1478290</td>\n",
       "      <td>5620580</td>\n",
       "      <td>0</td>\n",
       "      <td>14540477</td>\n",
       "      <td>11241161</td>\n",
       "    </tr>\n",
       "    <tr>\n",
       "      <th>63</th>\n",
       "      <td>Haiti</td>\n",
       "      <td>8003882</td>\n",
       "      <td>120</td>\n",
       "      <td>1750</td>\n",
       "      <td>0</td>\n",
       "      <td>0</td>\n",
       "      <td>976083</td>\n",
       "      <td>4400901</td>\n",
       "      <td>0</td>\n",
       "      <td>13382736</td>\n",
       "      <td>9760832</td>\n",
       "    </tr>\n",
       "  </tbody>\n",
       "</table>\n",
       "</div>"
      ],
      "text/plain": [
       "                        Pais  Cristianismo  Judaismo  Islamismo  Budismo  \\\n",
       "13  United States of America     233111307   5942248    2814750  3410236   \n",
       "27                    Canada      26431104    340304     670000   670000   \n",
       "35                   Bahamas        302657       305          0        0   \n",
       "49                      Cuba       7407107      1500       8000        0   \n",
       "63                     Haiti       8003882       120       1750        0   \n",
       "\n",
       "      Hindu  SemReligião  Incomum  Outros      Total  População  \n",
       "13  1797698     59422500  5455055  796206  311953794  312750000  \n",
       "27   275000      5670000   408491   35101   34464899   34500000  \n",
       "35        0         9086     1111     153     313159     313312  \n",
       "49    25000      1478290  5620580       0   14540477   11241161  \n",
       "63        0       976083  4400901       0   13382736    9760832  "
      ]
     },
     "execution_count": 9,
     "metadata": {},
     "output_type": "execute_result"
    }
   ],
   "source": [
    "TotalReligion2010 = pd.DataFrame()\n",
    "TotalReligion2010[\"Pais\"] = Religiosidade2010[\"COUNTRY\"]\n",
    "TotalReligion2010[\"Cristianismo\"] = Religiosidade2010[\"CHRSGEN\"]\n",
    "TotalReligion2010[\"Judaismo\"] = Religiosidade2010[\"JUDGEN\"]\n",
    "TotalReligion2010[\"Islamismo\"] = Religiosidade2010[\"ISLMGEN\"]\n",
    "TotalReligion2010[\"Budismo\"] = Religiosidade2010[\"BUDGEN\"]\n",
    "TotalReligion2010[\"Hindu\"] = Religiosidade2010[\"HINDGEN\"]\n",
    "TotalReligion2010[\"SemReligião\"] = Religiosidade2010[\"NONRELIG\"]\n",
    "\n",
    "\n",
    "IncomumList = [\"ZOROGEN\",\"SIKHGEN\",\"SHNTGEN\",\"BAHGEN\",\"TAOGEN\",\"JAINGEN\",\"CONFGEN\",\"SYNCGEN\",\"ANMGEN\"]\n",
    "\n",
    "Incomum = []\n",
    "for i in range(0,194):\n",
    "    Sum = 0\n",
    "    for k in IncomumList:\n",
    "        Sum += int(Religiosidade2010[k].tolist()[i])\n",
    "    Incomum.append(Sum)\n",
    "\n",
    "TotalReligion2010[\"Incomum\"] = Incomum\n",
    "TotalReligion2010[\"Outros\"] = Religiosidade2010[\"OTHRGEN\"]\n",
    "TotalReligion2010[\"Total\"] = Religiosidade2010[\"SUMRELIG\"]\n",
    "TotalReligion2010[\"População\"] = Religiosidade2010[\"POP\"]\n",
    "\n",
    "TotalReligion2010.head(5)\n"
   ]
  },
  {
   "cell_type": "code",
   "execution_count": 10,
   "metadata": {
    "collapsed": false
   },
   "outputs": [],
   "source": [
    "ListaA = TotalReligion2010[\"SemReligião\"].tolist()\n",
    "ListaP = TotalReligion2010[\"População\"].tolist()\n",
    "ListaAF = []\n",
    "\n",
    "for i in range(len(ListaA)):\n",
    "    ListaAF.append(ListaA[i]/ListaP[i])\n",
    "    \n",
    "TotalReligion2010[\"SemReligião\"] = ListaAF"
   ]
  },
  {
   "cell_type": "code",
   "execution_count": 11,
   "metadata": {
    "collapsed": false
   },
   "outputs": [],
   "source": [
    "ListadePaisesR = []\n",
    "ListadePaisesA = []\n",
    "ListadePaisesW = []\n",
    "ListadePaisesWa = []\n",
    "ListadePaisesP = []\n",
    "\n",
    "ListadePaisesR = TotalReligion2010[\"Pais\"].tolist()\n",
    "ListadePaisesA = Alfabeismo2011[\"Pais\"].tolist()\n",
    "ListadePaisesW = Work2007[\"Pais\"].tolist()\n",
    "ListadePaisesWa = War2004[\"Pais\"].tolist()\n",
    "ListadePaisesP = PIB2010[\"Pais\"].tolist()\n",
    "       \n",
    "for i in TotalReligion2010[\"Pais\"]:\n",
    "    if (not i in ListadePaisesA) or (not i in ListadePaisesW) or (not i in ListadePaisesWa) or (not i in ListadePaisesP):\n",
    "        TotalReligion2010 = TotalReligion2010[TotalReligion2010.Pais != i]\n",
    "\n",
    "for i in Alfabeismo2011[\"Pais\"]:\n",
    "    if (not i in ListadePaisesR) or (not i in ListadePaisesW) or (not i in ListadePaisesWa) or (not i in ListadePaisesP):\n",
    "        Alfabeismo2011 = Alfabeismo2011[Alfabeismo2011.Pais != i]\n",
    "\n",
    "for i in Work2007[\"Pais\"]:\n",
    "    if (not i in ListadePaisesR) or (not i in ListadePaisesA) or (not i in ListadePaisesWa) or (not i in ListadePaisesP):\n",
    "        Work2007 = Work2007[Work2007.Pais != i]\n",
    "\n",
    "for i in War2004[\"Pais\"]:\n",
    "    if (not i in ListadePaisesR) or (not i in ListadePaisesA) or (not i in ListadePaisesW) or (not i in ListadePaisesP):\n",
    "        War2004 = War2004[War2004.Pais != i]\n",
    "\n",
    "for i in PIB2010[\"Pais\"]:\n",
    "    if (not i in ListadePaisesR) or (not i in ListadePaisesA) or (not i in ListadePaisesW) or (not i in ListadePaisesWa):\n",
    "        PIB2010 = PIB2010[PIB2010.Pais != i]"
   ]
  },
  {
   "cell_type": "code",
   "execution_count": 12,
   "metadata": {
    "collapsed": false
   },
   "outputs": [
    {
     "name": "stdout",
     "output_type": "stream",
     "text": [
      "(153, 11)\n",
      "(153, 2)\n",
      "(153, 2)\n",
      "(153, 2)\n",
      "(153, 2)\n"
     ]
    }
   ],
   "source": [
    "print(TotalReligion2010.shape)\n",
    "print(Alfabeismo2011.shape)\n",
    "print(Work2007.shape)\n",
    "print(War2004.shape)\n",
    "print(PIB2010.shape)"
   ]
  },
  {
   "cell_type": "code",
   "execution_count": 13,
   "metadata": {
    "collapsed": false
   },
   "outputs": [],
   "source": [
    "TotalReligion2010 = TotalReligion2010.sort_values([\"Pais\"])\n",
    "Alfabeismo2011 = Alfabeismo2011.sort_values([\"Pais\"])\n",
    "Work2007 = Work2007.sort_values([\"Pais\"])\n",
    "War2004 = War2004.sort_values([\"Pais\"])\n",
    "PIB2010 = PIB2010.sort_values([\"Pais\"])"
   ]
  },
  {
   "cell_type": "markdown",
   "metadata": {},
   "source": [
    "## Plot dos gráficos com as variaveis escolhidas"
   ]
  },
  {
   "cell_type": "markdown",
   "metadata": {},
   "source": [
    "### Numero de pessoas Sem Religião por Alfabetismo"
   ]
  },
  {
   "cell_type": "code",
   "execution_count": 14,
   "metadata": {
    "collapsed": false
   },
   "outputs": [
    {
     "data": {
      "text/plain": [
       "[<matplotlib.lines.Line2D at 0x2a141e84dd8>]"
      ]
     },
     "execution_count": 14,
     "metadata": {},
     "output_type": "execute_result"
    },
    {
     "data": {
      "image/png": "[encoded data removed]",
      "text/plain": [
       "<matplotlib.figure.Figure at 0x2a1424feac8>"
      ]
     },
     "metadata": {},
     "output_type": "display_data"
    }
   ],
   "source": [
    "ListaA = Alfabeismo2011[\"2011\"].tolist()\n",
    "ListaR = TotalReligion2010[\"SemReligião\"].tolist()\n",
    "Todel = []\n",
    "\n",
    "for i in range(len(ListaR)):\n",
    "    if ListaA[i] == -1:\n",
    "        Todel.append(i)\n",
    "        \n",
    "Todel.reverse()\n",
    "\n",
    "for i in (Todel):\n",
    "    del(ListaA[i])\n",
    "    del(ListaR[i])\n",
    "\n",
    "plt.plot(ListaR, ListaA, 'o')"
   ]
  },
  {
   "cell_type": "code",
   "execution_count": 15,
   "metadata": {
    "collapsed": false
   },
   "outputs": [
    {
     "data": {
      "image/png": "[encoded data removed]",
      "text/plain": [
       "<matplotlib.figure.Figure at 0x2a141a907f0>"
      ]
     },
     "metadata": {},
     "output_type": "display_data"
    }
   ],
   "source": [
    "plt.plot(np.log(ListaR), (ListaA), 'o')\n",
    "plt.show()"
   ]
  },
  {
   "cell_type": "code",
   "execution_count": 16,
   "metadata": {
    "collapsed": false
   },
   "outputs": [],
   "source": [
    "ListaRLog = ListaR\n",
    "for i in range(len(ListaR)):\n",
    "    if ListaR[i] == 0:\n",
    "        ListaRLog[i] = 0.01\n",
    "        \n",
    "ListaRLog = np.log(ListaRLog)"
   ]
  },
  {
   "cell_type": "code",
   "execution_count": 17,
   "metadata": {
    "collapsed": false
   },
   "outputs": [
    {
     "name": "stdout",
     "output_type": "stream",
     "text": [
      "Correlação de R com A\n",
      "[[ 1.          0.38773034]\n",
      " [ 0.38773034  1.        ]]\n",
      "Correlação de ln(R) com A\n",
      "[[ 1.          0.69979403]\n",
      " [ 0.69979403  1.        ]]\n"
     ]
    }
   ],
   "source": [
    "print(\"Correlação de R com A\")\n",
    "print(np.corrcoef(ListaR, ListaA))\n",
    "print(\"Correlação de ln(R) com A\")\n",
    "print(np.corrcoef(ListaRLog, ListaA))"
   ]
  },
  {
   "cell_type": "markdown",
   "metadata": {},
   "source": [
    "### Numero de pessoas Sem Religião por % de trabalhadores"
   ]
  },
  {
   "cell_type": "code",
   "execution_count": 18,
   "metadata": {
    "collapsed": false
   },
   "outputs": [
    {
     "data": {
      "text/plain": [
       "[<matplotlib.lines.Line2D at 0x2a141f7e5f8>]"
      ]
     },
     "execution_count": 18,
     "metadata": {},
     "output_type": "execute_result"
    },
    {
     "data": {
      "image/png": "[encoded data removed]",
      "text/plain": [
       "<matplotlib.figure.Figure at 0x2a141ac9da0>"
      ]
     },
     "metadata": {},
     "output_type": "display_data"
    }
   ],
   "source": [
    "plt.plot(TotalReligion2010[\"SemReligião\"], Work2007[\"2007\"], 'o')"
   ]
  },
  {
   "cell_type": "code",
   "execution_count": 19,
   "metadata": {
    "collapsed": false
   },
   "outputs": [
    {
     "name": "stdout",
     "output_type": "stream",
     "text": [
      "Correlação entre Religião e Indice de Trabalhadores\n"
     ]
    },
    {
     "data": {
      "text/plain": [
       "array([[ 1.        , -0.07839253],\n",
       "       [-0.07839253,  1.        ]])"
      ]
     },
     "execution_count": 19,
     "metadata": {},
     "output_type": "execute_result"
    }
   ],
   "source": [
    "print(\"Correlação entre Religião e Indice de Trabalhadores\")\n",
    "np.corrcoef(TotalReligion2010[\"SemReligião\"], Work2007[\"2007\"])"
   ]
  },
  {
   "cell_type": "markdown",
   "metadata": {},
   "source": [
    "### Numero de pessoas Sem Religião por Mortes em guerra por 100 mil habitantes"
   ]
  },
  {
   "cell_type": "code",
   "execution_count": 20,
   "metadata": {
    "collapsed": false
   },
   "outputs": [
    {
     "data": {
      "text/plain": [
       "[<matplotlib.lines.Line2D at 0x2a141fe3b00>]"
      ]
     },
     "execution_count": 20,
     "metadata": {},
     "output_type": "execute_result"
    },
    {
     "data": {
      "image/png": "[encoded data removed]",
      "text/plain": [
       "<matplotlib.figure.Figure at 0x2a141f8ec50>"
      ]
     },
     "metadata": {},
     "output_type": "display_data"
    }
   ],
   "source": [
    "plt.plot(TotalReligion2010[\"SemReligião\"], War2004[\"2004\"], 'o')"
   ]
  },
  {
   "cell_type": "code",
   "execution_count": 21,
   "metadata": {
    "collapsed": false
   },
   "outputs": [
    {
     "data": {
      "text/plain": [
       "[<matplotlib.lines.Line2D at 0x2a14204d4e0>]"
      ]
     },
     "execution_count": 21,
     "metadata": {},
     "output_type": "execute_result"
    },
    {
     "data": {
      "image/png": "[encoded data removed]",
      "text/plain": [
       "<matplotlib.figure.Figure at 0x2a14200c748>"
      ]
     },
     "metadata": {},
     "output_type": "display_data"
    }
   ],
   "source": [
    "plt.plot(TotalReligion2010[\"SemReligião\"], np.log(War2004[\"2004\"]), 'o')"
   ]
  },
  {
   "cell_type": "code",
   "execution_count": 22,
   "metadata": {
    "collapsed": false
   },
   "outputs": [],
   "source": [
    "ListaR = TotalReligion2010[\"SemReligião\"]\n",
    "ListaG = War2004[\"2004\"].tolist()\n",
    "ListaGLog = ListaG\n",
    "\n",
    "for i in range(len(ListaG)):\n",
    "    ListaG[i] = ListaG[i]\n",
    "    if ListaG[i] == 0:\n",
    "        ListaGLog[i] = 0.01\n",
    "\n",
    "ListaGLog = np.log(ListaGLog)"
   ]
  },
  {
   "cell_type": "code",
   "execution_count": 23,
   "metadata": {
    "collapsed": false
   },
   "outputs": [
    {
     "name": "stdout",
     "output_type": "stream",
     "text": [
      "Correlação entre Religião e Mortes em Guerra\n",
      "[[ 1.         -0.11434809]\n",
      " [-0.11434809  1.        ]]\n",
      "Correlação entre Religião e LN(Mortes em Guerra)\n",
      "[[ 1.        -0.2279216]\n",
      " [-0.2279216  1.       ]]\n"
     ]
    }
   ],
   "source": [
    "print(\"Correlação entre Religião e Mortes em Guerra\")\n",
    "print(np.corrcoef(ListaR, ListaG))\n",
    "print(\"Correlação entre Religião e LN(Mortes em Guerra)\")\n",
    "print(np.corrcoef(ListaR, ListaGLog))"
   ]
  },
  {
   "cell_type": "markdown",
   "metadata": {},
   "source": [
    "### Numero de pessoas Sem Religião por Pib do País"
   ]
  },
  {
   "cell_type": "code",
   "execution_count": 24,
   "metadata": {
    "collapsed": false
   },
   "outputs": [
    {
     "data": {
      "text/plain": [
       "[<matplotlib.lines.Line2D at 0x2a1420b6da0>]"
      ]
     },
     "execution_count": 24,
     "metadata": {},
     "output_type": "execute_result"
    },
    {
     "data": {
      "image/png": "[encoded data removed]",
      "text/plain": [
       "<matplotlib.figure.Figure at 0x2a14206e438>"
      ]
     },
     "metadata": {},
     "output_type": "display_data"
    }
   ],
   "source": [
    "ListaP = PIB2010[\"2010\"].tolist()\n",
    "ListaR = TotalReligion2010[\"SemReligião\"].tolist()\n",
    "Todel = []\n",
    "\n",
    "for i in range(len(ListaR)):\n",
    "    if ListaP[i] == -1:\n",
    "        Todel.append(i)\n",
    "        \n",
    "Todel.reverse()\n",
    "\n",
    "for i in (Todel):\n",
    "    del(ListaP[i])\n",
    "    del(ListaR[i])\n",
    "\n",
    "plt.plot(ListaR, ListaP, 'o')"
   ]
  },
  {
   "cell_type": "code",
   "execution_count": 25,
   "metadata": {
    "collapsed": false
   },
   "outputs": [
    {
     "data": {
      "text/plain": [
       "[<matplotlib.lines.Line2D at 0x2a142122940>]"
      ]
     },
     "execution_count": 25,
     "metadata": {},
     "output_type": "execute_result"
    },
    {
     "data": {
      "image/png": "[encoded data removed]",
      "text/plain": [
       "<matplotlib.figure.Figure at 0x2a14200cda0>"
      ]
     },
     "metadata": {},
     "output_type": "display_data"
    }
   ],
   "source": [
    "plt.plot(np.log(ListaR), (ListaP), 'o')"
   ]
  },
  {
   "cell_type": "code",
   "execution_count": 26,
   "metadata": {
    "collapsed": true
   },
   "outputs": [],
   "source": [
    "ListaR = ListaR\n",
    "ListaP = ListaP\n",
    "ListaPLog = ListaP\n",
    "\n",
    "for i in range(len(ListaP)):\n",
    "    if ListaP[i] == 0:\n",
    "        ListaPLog[i] = 0.01\n",
    "\n",
    "ListaPLog = np.log(ListaPLog)"
   ]
  },
  {
   "cell_type": "code",
   "execution_count": 27,
   "metadata": {
    "collapsed": false
   },
   "outputs": [
    {
     "name": "stdout",
     "output_type": "stream",
     "text": [
      "Correlação entre Religião e Pib do País per Capta\n",
      "[[ 1.          0.31307554]\n",
      " [ 0.31307554  1.        ]]\n",
      "Correlação entre Religião e ln(Pib do País per Capta)\n",
      "[[ 1.          0.38943357]\n",
      " [ 0.38943357  1.        ]]\n"
     ]
    }
   ],
   "source": [
    "print(\"Correlação entre Religião e Pib do País per Capta\")\n",
    "print(np.corrcoef(ListaR, ListaP))\n",
    "print(\"Correlação entre Religião e ln(Pib do País per Capta)\")\n",
    "print(np.corrcoef(ListaR, ListaPLog))"
   ]
  },
  {
   "cell_type": "markdown",
   "metadata": {},
   "source": [
    "## Conclusão\n",
    "\n",
    "### A partir dos dados observados chegamos a conclusao que as melhores variavesis para se análisar são o numero de pessoas sem religião em cada pais, a % de alfabetização das populações e o PIB dos paises, pois ambos, com a base (Numero de pessoas sem religião em %) em ln(x) , apresentam correlações consideraveis 0,69 e 0,39 respectivamente."
   ]
  },
  {
   "cell_type": "markdown",
   "metadata": {},
   "source": [
    "# Etapa 2"
   ]
  },
  {
   "cell_type": "code",
   "execution_count": null,
   "metadata": {
    "collapsed": true
   },
   "outputs": [],
   "source": [
    "import statsmodels;\n",
    "\n",
    "s"
   ]
  }
 ],
 "metadata": {
  "anaconda-cloud": {},
  "kernelspec": {
   "display_name": "Python 3",
   "language": "python",
   "name": "python3"
  },
  "language_info": {
   "codemirror_mode": {
    "name": "ipython",
    "version": 3
   },
   "file_extension": ".py",
   "mimetype": "text/x-python",
   "name": "python",
   "nbconvert_exporter": "python",
   "pygments_lexer": "ipython3",
   "version": "3.5.2"
  }
 },
 "nbformat": 4,
 "nbformat_minor": 0
}
